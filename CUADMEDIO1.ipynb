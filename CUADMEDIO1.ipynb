{
  "nbformat": 4,
  "nbformat_minor": 0,
  "metadata": {
    "colab": {
      "provenance": [],
      "authorship_tag": "ABX9TyOTZ3mAkI8XkRtswHt+o6ok",
      "include_colab_link": true
    },
    "kernelspec": {
      "name": "python3",
      "display_name": "Python 3"
    },
    "language_info": {
      "name": "python"
    }
  },
  "cells": [
    {
      "cell_type": "markdown",
      "metadata": {
        "id": "view-in-github",
        "colab_type": "text"
      },
      "source": [
        "<a href=\"https://colab.research.google.com/github/Aragnzlz/SIMULACION-I/blob/main/CUADMEDIO1.ipynb\" target=\"_parent\"><img src=\"https://colab.research.google.com/assets/colab-badge.svg\" alt=\"Open In Colab\"/></a>"
      ]
    },
    {
      "cell_type": "markdown",
      "source": [
        "# **CUADRADO MEDIO**\n",
        "Este método no congruencial requiere de un número entero detonacdor(llamado semilla) con D digitos, el cual es elevado al cuadrado para seleccionar del resultado los D digitos del centro.\n",
        "Los pasos que se siguen son los siguientes:\n",
        "1. Elegir un número de 4 digitos $x_n$\n",
        "2. Elevar el número al cuadrado  $x_n ^2$\n",
        "3. Elegir $x_{n+1}$ como el cuadrado medio\n",
        "4. tomar $x_n = x_{n+1}$ y regresar al paso 1.\n",
        "\n",
        "Ventajas\n",
        "\n",
        "\n",
        "*   Es un algoritmo sencillo de programar y ejecutar\n",
        "*   Se puede alargar el ciclo de vida usando números primos como semilla.\n",
        "\n",
        "Desventajas\n",
        "\n",
        "\n",
        "*   Tiene un ciclo de vida corto\n",
        "*   Converge rapidamente a 0\n",
        "\n",
        "\n",
        "\n"
      ],
      "metadata": {
        "id": "jqfKZ9Oxws7C"
      }
    },
    {
      "cell_type": "code",
      "execution_count": null,
      "metadata": {
        "id": "i5EILHgiqUTu",
        "colab": {
          "base_uri": "https://localhost:8080/"
        },
        "outputId": "3871c370-69e8-4952-e16d-e39c8afb1218"
      },
      "outputs": [
        {
          "output_type": "stream",
          "name": "stdout",
          "text": [
            "Ingresa un número de 4 dígitos: 7543\n",
            "El número ingresado es:  7543\n",
            "Ingresa el número de iteraciones: 10\n",
            "╒════════╤══════╤══════════╤═════════╕\n",
            "│   ITER │   XN │     XN^2 │   X_N+1 │\n",
            "╞════════╪══════╪══════════╪═════════╡\n",
            "│      0 │ 7543 │ 56896849 │    8968 │\n",
            "├────────┼──────┼──────────┼─────────┤\n",
            "│      1 │ 8968 │ 80425024 │    4250 │\n",
            "├────────┼──────┼──────────┼─────────┤\n",
            "│      2 │ 4250 │ 18062500 │    0625 │\n",
            "├────────┼──────┼──────────┼─────────┤\n",
            "│      3 │  625 │   390625 │    9062 │\n",
            "├────────┼──────┼──────────┼─────────┤\n",
            "│      4 │ 9062 │ 82119844 │    1198 │\n",
            "├────────┼──────┼──────────┼─────────┤\n",
            "│      5 │ 1198 │  1435204 │    4352 │\n",
            "├────────┼──────┼──────────┼─────────┤\n",
            "│      6 │ 4352 │ 18939904 │    9399 │\n",
            "├────────┼──────┼──────────┼─────────┤\n",
            "│      7 │ 9399 │ 88341201 │    3412 │\n",
            "├────────┼──────┼──────────┼─────────┤\n",
            "│      8 │ 3412 │ 11641744 │    6417 │\n",
            "├────────┼──────┼──────────┼─────────┤\n",
            "│      9 │ 6417 │ 41177889 │    1778 │\n",
            "╘════════╧══════╧══════════╧═════════╛\n"
          ]
        }
      ],
      "source": [
        "#Pedimos al usuario ingresar un número de 4 dígitos\n",
        "num = input(\"Ingresa un número de 4 dígitos: \")\n",
        "print(\"El número ingresado es: \", num)\n",
        "ite = input(\"Ingresa el número de iteraciones: \")\n",
        "ite = int(ite)\n",
        "x_n = int(num)\n",
        "p = 4\n",
        "xn1 = []\n",
        "nuevo = []\n",
        "xncuad = []\n",
        "\n",
        "for i in range(ite):\n",
        "    x_n1 = x_n\n",
        "    xn1.insert(i,x_n1)\n",
        "    xn_cuad = x_n1**2\n",
        "    xncuad.insert(i,xn_cuad)\n",
        "    xn_cuad = str(xn_cuad)\n",
        "    nd = len(xn_cuad)\n",
        "    if len(xn_cuad) % 2 == 0:\n",
        "      j = nd - p\n",
        "      j = j/2\n",
        "      b = int(j)\n",
        "      nuevo.insert(i,xn_cuad[b:-b])\n",
        "      x_n = int(xn_cuad[b:-b])\n",
        "    else:\n",
        "       xn_cuad = ''.join([\"0\",xn_cuad])\n",
        "       nd = len(xn_cuad)\n",
        "       j = nd - p\n",
        "       j = j/2\n",
        "       b = int(j)\n",
        "       nuevo.insert(i,xn_cuad[b:-b])\n",
        "       x_n = int(xn_cuad[b:-b])\n",
        "\n",
        "A = [[i, xn1[i], xncuad[i], nuevo[i]] for i in range(len(xn1))]\n",
        "head = [\"ITER\", \"XN\", \"XN^2\",\"X_N+1\"]\n",
        "A.insert(0,head)\n",
        "\n",
        "from tabulate import tabulate\n",
        "# Imprimir los datos en formato de tabla\n",
        "print(tabulate(A, headers=\"firstrow\", tablefmt=\"fancy_grid\"))\n"
      ]
    }
  ]
}