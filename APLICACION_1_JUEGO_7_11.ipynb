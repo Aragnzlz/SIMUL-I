{
  "nbformat": 4,
  "nbformat_minor": 0,
  "metadata": {
    "colab": {
      "provenance": [],
      "authorship_tag": "ABX9TyNkWp2EX7sypEtI5pWGY9NI",
      "include_colab_link": true
    },
    "kernelspec": {
      "name": "python3",
      "display_name": "Python 3"
    },
    "language_info": {
      "name": "python"
    }
  },
  "cells": [
    {
      "cell_type": "markdown",
      "metadata": {
        "id": "view-in-github",
        "colab_type": "text"
      },
      "source": [
        "<a href=\"https://colab.research.google.com/github/Aragnzlz/SIMULACION-I/blob/main/APLICACION_1_JUEGO_7_11.ipynb\" target=\"_parent\"><img src=\"https://colab.research.google.com/assets/colab-badge.svg\" alt=\"Open In Colab\"/></a>"
      ]
    },
    {
      "cell_type": "markdown",
      "source": [
        "# **EJERCICIO 5.1**\n",
        "El famoso juego 7-11, requiere que el jugador lance dos dados una o más veces hasta tomar la decisión de que se gana o se pierde el juego. El juego se gana si en el primer lanzamiento los dados suman 7 u 11, ó aparece un $4,5,6,8,9610$ en el primer lanzamiento y la misma suma reaparece antes de que aparezca un 7. Por otra parte, el juego se pierde si en el primer lanzamiento los dados suman 2, 3 ó 12, ó aparece un $4,5,6,8,9$ ó 10 en el primer lanzamiento y luego sale un 7 antes de que se repita el primer lanzamiento. Si el valor de la apuesta es de $\\$ 1$, y la ganancia cada vez que se gana un juego es de $\\$ 1$, ¿cuál sería la probabilidad de quiebra si la cantidad inicial disponible es de $\\$ 20$ ? (Asuma que el juego también se termina cuando se acumulan $\\$ 50$.)\n",
        "\n",
        "Para resolver este problema primero definiremos las reglas del juego:\n",
        "\n",
        "\n",
        "*   El jugador gana inmediatamente si la suma de los dados es 7 u 11 en el primer lanzamiento.\n",
        "*   El jugador priede inmediatamente si al suma de los dados es 2,3 o 12 en el primer lanzamiento.\n",
        "* Si se obtiene un 4,5,6,8,9 o 10, esa suma se convierte en el \"punto\". El jugador debe seguir lanzando los dados hasta que vuelva a obtener esa suma(ganar) o un 7(perder)\n",
        "\n",
        "\n",
        "\n"
      ],
      "metadata": {
        "id": "GRGVG_8o_tZG"
      }
    },
    {
      "cell_type": "markdown",
      "source": [
        "Primero, para simular el lanzamiento de los dados, generaremos dos numeros aleatorios entre 0 y 1, donde la probabilidad de que cada valor (1 al 6) del dado aparezca es de 1/6, por lo que:\n",
        "\n",
        "Si $0 \\leq R < \\frac{1}{6} $  x = 1 \\\\\n",
        "Si $\\frac{1}{6} \\leq R < \\frac{2}{6} $  x = 2 \\\\\n",
        "Si $\\frac{2}{6} \\leq R < \\frac{3}{6} $  x = 3 \\\\\n",
        "Si $\\frac{3}{6} \\leq R < \\frac{4}{6} $  x = 4 \\\\\n",
        "Si $\\frac{4}{6} \\leq R < \\frac{5}{6} $  x = 5 \\\\\n",
        "Si $\\frac{5}{6} \\leq R < \\frac{6}{6} $  x = 6 \\\\"
      ],
      "metadata": {
        "id": "Lx4j9cQoGYJ2"
      }
    },
    {
      "cell_type": "code",
      "source": [
        "import random as rnd\n",
        "import matplotlib.pyplot as plt"
      ],
      "metadata": {
        "id": "Q4NNraHzIoyE"
      },
      "execution_count": 364,
      "outputs": []
    },
    {
      "cell_type": "markdown",
      "source": [
        "La siguiente función nos generas los numeros aleatorios que simulan el lanzamiento de los dados. Después, aplica el cirterio anterior para clasificar el número del dado correspondiente."
      ],
      "metadata": {
        "id": "nZrFfYPyoagX"
      }
    },
    {
      "cell_type": "code",
      "source": [
        "def lanzamiento():\n",
        "  d1 = 0\n",
        "  d2 = 0\n",
        "  u1 = rnd.random()\n",
        "  u2 = rnd.random()\n",
        "\n",
        "  if 0 <= u1 <= (1/6):\n",
        "    d1 = 1\n",
        "  elif (1/6) < u1 <= (2/6):\n",
        "    d1 = 2\n",
        "  elif (2/6) < u1 <= (3/6):\n",
        "    d1 = 3\n",
        "  elif (3/6) < u1 <= (4/6):\n",
        "    d1 = 4\n",
        "  elif (4/6) < u1 <= (5/6):\n",
        "    d1 = 5\n",
        "  elif (5/6) < u1 <= 1:\n",
        "    d1 = 6\n",
        "\n",
        "  if 0 <= u2 <= (1/6):\n",
        "    d2 = 1\n",
        "  elif (1/6) < u2 <= (2/6):\n",
        "    d2 = 2\n",
        "  elif (2/6) < u2 <= (3/6):\n",
        "    d2 = 3\n",
        "  elif (3/6) < u2 <= (4/6):\n",
        "    d2 = 4\n",
        "  elif (4/6) < u2 <= (5/6):\n",
        "    d2 = 5\n",
        "  elif (5/6) < u2 <= 1:\n",
        "    d2 = 6\n",
        "  return u1,u2,d1,d2"
      ],
      "metadata": {
        "id": "lpvM45V_GQQq"
      },
      "execution_count": 365,
      "outputs": []
    },
    {
      "cell_type": "markdown",
      "source": [
        "Geberamos la fución partida() para simular la partida hasta que allá un punto de quiebre."
      ],
      "metadata": {
        "id": "qLQ7uIkcoqPk"
      }
    },
    {
      "cell_type": "code",
      "source": [
        "def partida():\n",
        "  u_1 = []\n",
        "  u_2 = []\n",
        "  d_1 = []\n",
        "  d_2 = []\n",
        "  dinero = []\n",
        "  cant_i = 8\n",
        "  objetivo = 10\n",
        "  ganancia = 1\n",
        "  apuesta = 1\n",
        "  suma = []\n",
        "  g = [] #Nos guarda 1 si gana, -1 si pierde y 0 siempre que este dentro del ciclo.\n",
        "  while 0 < cant_i < objetivo:\n",
        "    [u1,u2,d1,d2] = lanzamiento()\n",
        "    d_1.append(d1)\n",
        "    d_2.append(d2)\n",
        "    u_1.append(u1)\n",
        "    u_2.append(u2)\n",
        "    resultado = d1 + d2\n",
        "    suma.append(resultado)\n",
        "    dinero.append(cant_i)\n",
        "    if resultado in {7, 11}:\n",
        "        cant_i += ganancia\n",
        "        g.append('1')\n",
        "    elif resultado in {2, 3, 12}:\n",
        "        cant_i -= apuesta\n",
        "        g.append('-1')\n",
        "    else:\n",
        "        punto = resultado\n",
        "        g.append('0')\n",
        "        while True:\n",
        "          dinero.append(cant_i)\n",
        "          [u1,u2,d1,d2] = lanzamiento()\n",
        "          d_1.append(d1)\n",
        "          d_2.append(d2)\n",
        "          u_1.append(u1)\n",
        "          u_2.append(u2)\n",
        "          resultado = d1 + d2\n",
        "          suma.append(resultado)\n",
        "          if resultado == punto:\n",
        "            cant_i += ganancia\n",
        "            g.append('1')\n",
        "            break\n",
        "          elif resultado == 7:\n",
        "            cant_i -= apuesta\n",
        "            g.append('-1')\n",
        "            break\n",
        "          else:\n",
        "            g.append('0')\n",
        "\n",
        "  A = [[u_1[i],u_2[i],d_1[i],d_2[i],suma[i], g[i], dinero[i]] for i in range(len(u_1))]\n",
        "  head = ['# ALEATORIO', '# ALEATORIO', 'DADO 1', 'DADO 2', 'SUMA','GANA/PER','DINERO ACTUAL']\n",
        "  A.insert(0,head)\n",
        "\n",
        "  from tabulate import tabulate\n",
        "  # Imprimir los datos en formato de tabla\n",
        "  print(tabulate(A, headers=\"firstrow\", tablefmt=\"fancy_grid\",colalign=(\"center\",)*len(head)))\n",
        "\n",
        "  if dinero == 0:\n",
        "        print(\"Quiebra: dinero llegó a $0\")\n",
        "  else:\n",
        "        print(f\"Juego terminado con ${cant_i}\")\n",
        "\n",
        "  return"
      ],
      "metadata": {
        "id": "gmuoQ2gJNTGD"
      },
      "execution_count": 237,
      "outputs": []
    },
    {
      "cell_type": "markdown",
      "source": [
        "  Para ejemplificar el problema, generaremos una partida con un valor inicial de 8 y un objetivo de 10, esto para que la tabla no se haga muy larga y sea posible visualizar lo que nos genera la función."
      ],
      "metadata": {
        "id": "2kwUWGQqo989"
      }
    },
    {
      "cell_type": "code",
      "source": [
        "partida()"
      ],
      "metadata": {
        "colab": {
          "base_uri": "https://localhost:8080/"
        },
        "id": "zbiJ-yAOp-pJ",
        "outputId": "a4209874-c0e6-4a9e-a116-3da68a759edc"
      },
      "execution_count": 249,
      "outputs": [
        {
          "output_type": "stream",
          "name": "stdout",
          "text": [
            "╒═══════════════╤═══════════════╤══════════╤══════════╤════════╤════════════╤═════════════════╕\n",
            "│  # ALEATORIO  │  # ALEATORIO  │  DADO 1  │  DADO 2  │  SUMA  │  GANA/PER  │  DINERO ACTUAL  │\n",
            "╞═══════════════╪═══════════════╪══════════╪══════════╪════════╪════════════╪═════════════════╡\n",
            "│   0.319487    │   0.226806    │    2     │    2     │   4    │     0      │        8        │\n",
            "├───────────────┼───────────────┼──────────┼──────────┼────────┼────────────┼─────────────────┤\n",
            "│   0.159312    │   0.490124    │    1     │    3     │   4    │     1      │        8        │\n",
            "├───────────────┼───────────────┼──────────┼──────────┼────────┼────────────┼─────────────────┤\n",
            "│   0.458545    │   0.878747    │    3     │    6     │   9    │     0      │        9        │\n",
            "├───────────────┼───────────────┼──────────┼──────────┼────────┼────────────┼─────────────────┤\n",
            "│   0.894566    │   0.599103    │    6     │    4     │   10   │     0      │        9        │\n",
            "├───────────────┼───────────────┼──────────┼──────────┼────────┼────────────┼─────────────────┤\n",
            "│   0.613332    │   0.700052    │    4     │    5     │   9    │     1      │        9        │\n",
            "╘═══════════════╧═══════════════╧══════════╧══════════╧════════╧════════════╧═════════════════╛\n",
            "Juego terminado con $10\n"
          ]
        }
      ]
    },
    {
      "cell_type": "markdown",
      "source": [
        "Nos damos cuenta que, para este caso, la partida termina cuando se alcanza el objetivo, sin embargo existirán casos donde se termine cuando se terminé su dinero, es decir, llegué a cero. Esto se observa en el siguiente ejemplo:"
      ],
      "metadata": {
        "id": "bDJkPMfApTCl"
      }
    },
    {
      "cell_type": "code",
      "source": [
        "partida()"
      ],
      "metadata": {
        "colab": {
          "base_uri": "https://localhost:8080/"
        },
        "id": "dQ9oNTTDo9lE",
        "outputId": "24678058-4f09-4a4c-b2a9-814307084bda"
      },
      "execution_count": 252,
      "outputs": [
        {
          "output_type": "stream",
          "name": "stdout",
          "text": [
            "╒═══════════════╤═══════════════╤══════════╤══════════╤════════╤════════════╤═════════════════╕\n",
            "│  # ALEATORIO  │  # ALEATORIO  │  DADO 1  │  DADO 2  │  SUMA  │  GANA/PER  │  DINERO ACTUAL  │\n",
            "╞═══════════════╪═══════════════╪══════════╪══════════╪════════╪════════════╪═════════════════╡\n",
            "│   0.383863    │    0.83802    │    3     │    6     │   9    │     0      │        8        │\n",
            "├───────────────┼───────────────┼──────────┼──────────┼────────┼────────────┼─────────────────┤\n",
            "│   0.745927    │   0.760437    │    5     │    5     │   10   │     0      │        8        │\n",
            "├───────────────┼───────────────┼──────────┼──────────┼────────┼────────────┼─────────────────┤\n",
            "│   0.121819    │   0.400362    │    1     │    3     │   4    │     0      │        8        │\n",
            "├───────────────┼───────────────┼──────────┼──────────┼────────┼────────────┼─────────────────┤\n",
            "│   0.400894    │   0.484837    │    3     │    3     │   6    │     0      │        8        │\n",
            "├───────────────┼───────────────┼──────────┼──────────┼────────┼────────────┼─────────────────┤\n",
            "│   0.339985    │   0.151453    │    3     │    1     │   4    │     0      │        8        │\n",
            "├───────────────┼───────────────┼──────────┼──────────┼────────┼────────────┼─────────────────┤\n",
            "│   0.0273493   │   0.872016    │    1     │    6     │   7    │     -1     │        8        │\n",
            "├───────────────┼───────────────┼──────────┼──────────┼────────┼────────────┼─────────────────┤\n",
            "│   0.782019    │   0.0269422   │    5     │    1     │   6    │     0      │        7        │\n",
            "├───────────────┼───────────────┼──────────┼──────────┼────────┼────────────┼─────────────────┤\n",
            "│   0.845647    │  7.14642e-05  │    6     │    1     │   7    │     -1     │        7        │\n",
            "├───────────────┼───────────────┼──────────┼──────────┼────────┼────────────┼─────────────────┤\n",
            "│   0.391743    │   0.539427    │    3     │    4     │   7    │     1      │        6        │\n",
            "├───────────────┼───────────────┼──────────┼──────────┼────────┼────────────┼─────────────────┤\n",
            "│   0.354568    │   0.392369    │    3     │    3     │   6    │     0      │        7        │\n",
            "├───────────────┼───────────────┼──────────┼──────────┼────────┼────────────┼─────────────────┤\n",
            "│    0.97068    │   0.593561    │    6     │    4     │   10   │     0      │        7        │\n",
            "├───────────────┼───────────────┼──────────┼──────────┼────────┼────────────┼─────────────────┤\n",
            "│   0.203272    │   0.159828    │    2     │    1     │   3    │     0      │        7        │\n",
            "├───────────────┼───────────────┼──────────┼──────────┼────────┼────────────┼─────────────────┤\n",
            "│   0.977968    │   0.478295    │    6     │    3     │   9    │     0      │        7        │\n",
            "├───────────────┼───────────────┼──────────┼──────────┼────────┼────────────┼─────────────────┤\n",
            "│   0.664076    │   0.657144    │    4     │    4     │   8    │     0      │        7        │\n",
            "├───────────────┼───────────────┼──────────┼──────────┼────────┼────────────┼─────────────────┤\n",
            "│   0.615941    │   0.928549    │    4     │    6     │   10   │     0      │        7        │\n",
            "├───────────────┼───────────────┼──────────┼──────────┼────────┼────────────┼─────────────────┤\n",
            "│   0.606227    │   0.869759    │    4     │    6     │   10   │     0      │        7        │\n",
            "├───────────────┼───────────────┼──────────┼──────────┼────────┼────────────┼─────────────────┤\n",
            "│   0.536036    │   0.712053    │    4     │    5     │   9    │     0      │        7        │\n",
            "├───────────────┼───────────────┼──────────┼──────────┼────────┼────────────┼─────────────────┤\n",
            "│   0.930902    │   0.823841    │    6     │    5     │   11   │     0      │        7        │\n",
            "├───────────────┼───────────────┼──────────┼──────────┼────────┼────────────┼─────────────────┤\n",
            "│   0.795084    │   0.766798    │    5     │    5     │   10   │     0      │        7        │\n",
            "├───────────────┼───────────────┼──────────┼──────────┼────────┼────────────┼─────────────────┤\n",
            "│   0.108273    │   0.487343    │    1     │    3     │   4    │     0      │        7        │\n",
            "├───────────────┼───────────────┼──────────┼──────────┼────────┼────────────┼─────────────────┤\n",
            "│   0.992016    │   0.612929    │    6     │    4     │   10   │     0      │        7        │\n",
            "├───────────────┼───────────────┼──────────┼──────────┼────────┼────────────┼─────────────────┤\n",
            "│   0.679704    │   0.832423    │    5     │    5     │   10   │     0      │        7        │\n",
            "├───────────────┼───────────────┼──────────┼──────────┼────────┼────────────┼─────────────────┤\n",
            "│   0.647898    │   0.663753    │    4     │    4     │   8    │     0      │        7        │\n",
            "├───────────────┼───────────────┼──────────┼──────────┼────────┼────────────┼─────────────────┤\n",
            "│   0.301574    │   0.996946    │    2     │    6     │   8    │     0      │        7        │\n",
            "├───────────────┼───────────────┼──────────┼──────────┼────────┼────────────┼─────────────────┤\n",
            "│    0.13293    │   0.591043    │    1     │    4     │   5    │     0      │        7        │\n",
            "├───────────────┼───────────────┼──────────┼──────────┼────────┼────────────┼─────────────────┤\n",
            "│   0.724335    │   0.170557    │    5     │    2     │   7    │     -1     │        7        │\n",
            "├───────────────┼───────────────┼──────────┼──────────┼────────┼────────────┼─────────────────┤\n",
            "│   0.557851    │   0.365337    │    4     │    3     │   7    │     1      │        6        │\n",
            "├───────────────┼───────────────┼──────────┼──────────┼────────┼────────────┼─────────────────┤\n",
            "│   0.0648025   │  0.000555507  │    1     │    1     │   2    │     -1     │        7        │\n",
            "├───────────────┼───────────────┼──────────┼──────────┼────────┼────────────┼─────────────────┤\n",
            "│    0.16566    │   0.427323    │    1     │    3     │   4    │     0      │        6        │\n",
            "├───────────────┼───────────────┼──────────┼──────────┼────────┼────────────┼─────────────────┤\n",
            "│    0.46388    │   0.440993    │    3     │    3     │   6    │     0      │        6        │\n",
            "├───────────────┼───────────────┼──────────┼──────────┼────────┼────────────┼─────────────────┤\n",
            "│    0.50349    │   0.0313129   │    4     │    1     │   5    │     0      │        6        │\n",
            "├───────────────┼───────────────┼──────────┼──────────┼────────┼────────────┼─────────────────┤\n",
            "│   0.370656    │   0.724491    │    3     │    5     │   8    │     0      │        6        │\n",
            "├───────────────┼───────────────┼──────────┼──────────┼────────┼────────────┼─────────────────┤\n",
            "│   0.330334    │   0.191369    │    2     │    2     │   4    │     1      │        6        │\n",
            "├───────────────┼───────────────┼──────────┼──────────┼────────┼────────────┼─────────────────┤\n",
            "│   0.985808    │   0.541771    │    6     │    4     │   10   │     0      │        7        │\n",
            "├───────────────┼───────────────┼──────────┼──────────┼────────┼────────────┼─────────────────┤\n",
            "│    0.58762    │   0.697833    │    4     │    5     │   9    │     0      │        7        │\n",
            "├───────────────┼───────────────┼──────────┼──────────┼────────┼────────────┼─────────────────┤\n",
            "│   0.932153    │   0.311934    │    6     │    2     │   8    │     0      │        7        │\n",
            "├───────────────┼───────────────┼──────────┼──────────┼────────┼────────────┼─────────────────┤\n",
            "│   0.459606    │   0.876411    │    3     │    6     │   9    │     0      │        7        │\n",
            "├───────────────┼───────────────┼──────────┼──────────┼────────┼────────────┼─────────────────┤\n",
            "│    0.56906    │   0.420654    │    4     │    3     │   7    │     -1     │        7        │\n",
            "├───────────────┼───────────────┼──────────┼──────────┼────────┼────────────┼─────────────────┤\n",
            "│   0.922558    │   0.258873    │    6     │    2     │   8    │     0      │        6        │\n",
            "├───────────────┼───────────────┼──────────┼──────────┼────────┼────────────┼─────────────────┤\n",
            "│   0.0505963   │   0.150878    │    1     │    1     │   2    │     0      │        6        │\n",
            "├───────────────┼───────────────┼──────────┼──────────┼────────┼────────────┼─────────────────┤\n",
            "│   0.601297    │   0.342329    │    4     │    3     │   7    │     -1     │        6        │\n",
            "├───────────────┼───────────────┼──────────┼──────────┼────────┼────────────┼─────────────────┤\n",
            "│   0.801217    │   0.122838    │    5     │    1     │   6    │     0      │        5        │\n",
            "├───────────────┼───────────────┼──────────┼──────────┼────────┼────────────┼─────────────────┤\n",
            "│   0.191243    │   0.238865    │    2     │    2     │   4    │     0      │        5        │\n",
            "├───────────────┼───────────────┼──────────┼──────────┼────────┼────────────┼─────────────────┤\n",
            "│    0.92448    │   0.0212731   │    6     │    1     │   7    │     -1     │        5        │\n",
            "├───────────────┼───────────────┼──────────┼──────────┼────────┼────────────┼─────────────────┤\n",
            "│   0.916789    │   0.365922    │    6     │    3     │   9    │     0      │        4        │\n",
            "├───────────────┼───────────────┼──────────┼──────────┼────────┼────────────┼─────────────────┤\n",
            "│   0.699205    │   0.796457    │    5     │    5     │   10   │     0      │        4        │\n",
            "├───────────────┼───────────────┼──────────┼──────────┼────────┼────────────┼─────────────────┤\n",
            "│   0.955831    │   0.124197    │    6     │    1     │   7    │     -1     │        4        │\n",
            "├───────────────┼───────────────┼──────────┼──────────┼────────┼────────────┼─────────────────┤\n",
            "│   0.283331    │   0.220803    │    2     │    2     │   4    │     0      │        3        │\n",
            "├───────────────┼───────────────┼──────────┼──────────┼────────┼────────────┼─────────────────┤\n",
            "│   0.0598138   │   0.735147    │    1     │    5     │   6    │     0      │        3        │\n",
            "├───────────────┼───────────────┼──────────┼──────────┼────────┼────────────┼─────────────────┤\n",
            "│   0.176833    │   0.215449    │    2     │    2     │   4    │     1      │        3        │\n",
            "├───────────────┼───────────────┼──────────┼──────────┼────────┼────────────┼─────────────────┤\n",
            "│   0.621085    │   0.421815    │    4     │    3     │   7    │     1      │        4        │\n",
            "├───────────────┼───────────────┼──────────┼──────────┼────────┼────────────┼─────────────────┤\n",
            "│   0.104176    │   0.644553    │    1     │    4     │   5    │     0      │        5        │\n",
            "├───────────────┼───────────────┼──────────┼──────────┼────────┼────────────┼─────────────────┤\n",
            "│   0.268497    │   0.566649    │    2     │    4     │   6    │     0      │        5        │\n",
            "├───────────────┼───────────────┼──────────┼──────────┼────────┼────────────┼─────────────────┤\n",
            "│   0.852376    │   0.0458931   │    6     │    1     │   7    │     -1     │        5        │\n",
            "├───────────────┼───────────────┼──────────┼──────────┼────────┼────────────┼─────────────────┤\n",
            "│   0.355623    │   0.924625    │    3     │    6     │   9    │     0      │        4        │\n",
            "├───────────────┼───────────────┼──────────┼──────────┼────────┼────────────┼─────────────────┤\n",
            "│  0.00812444   │   0.266642    │    1     │    2     │   3    │     0      │        4        │\n",
            "├───────────────┼───────────────┼──────────┼──────────┼────────┼────────────┼─────────────────┤\n",
            "│   0.179574    │   0.290121    │    2     │    2     │   4    │     0      │        4        │\n",
            "├───────────────┼───────────────┼──────────┼──────────┼────────┼────────────┼─────────────────┤\n",
            "│   0.274127    │   0.867832    │    2     │    6     │   8    │     0      │        4        │\n",
            "├───────────────┼───────────────┼──────────┼──────────┼────────┼────────────┼─────────────────┤\n",
            "│   0.438318    │   0.409161    │    3     │    3     │   6    │     0      │        4        │\n",
            "├───────────────┼───────────────┼──────────┼──────────┼────────┼────────────┼─────────────────┤\n",
            "│   0.454898    │   0.873158    │    3     │    6     │   9    │     1      │        4        │\n",
            "├───────────────┼───────────────┼──────────┼──────────┼────────┼────────────┼─────────────────┤\n",
            "│   0.188068    │   0.321675    │    2     │    2     │   4    │     0      │        5        │\n",
            "├───────────────┼───────────────┼──────────┼──────────┼────────┼────────────┼─────────────────┤\n",
            "│   0.148093    │   0.428664    │    1     │    3     │   4    │     1      │        5        │\n",
            "├───────────────┼───────────────┼──────────┼──────────┼────────┼────────────┼─────────────────┤\n",
            "│   0.715131    │   0.262986    │    5     │    2     │   7    │     1      │        6        │\n",
            "├───────────────┼───────────────┼──────────┼──────────┼────────┼────────────┼─────────────────┤\n",
            "│   0.705216    │   0.579294    │    5     │    4     │   9    │     0      │        7        │\n",
            "├───────────────┼───────────────┼──────────┼──────────┼────────┼────────────┼─────────────────┤\n",
            "│   0.338027    │  0.000310537  │    3     │    1     │   4    │     0      │        7        │\n",
            "├───────────────┼───────────────┼──────────┼──────────┼────────┼────────────┼─────────────────┤\n",
            "│   0.168231    │   0.329692    │    2     │    2     │   4    │     0      │        7        │\n",
            "├───────────────┼───────────────┼──────────┼──────────┼────────┼────────────┼─────────────────┤\n",
            "│   0.257639    │   0.597695    │    2     │    4     │   6    │     0      │        7        │\n",
            "├───────────────┼───────────────┼──────────┼──────────┼────────┼────────────┼─────────────────┤\n",
            "│   0.217707    │   0.474967    │    2     │    3     │   5    │     0      │        7        │\n",
            "├───────────────┼───────────────┼──────────┼──────────┼────────┼────────────┼─────────────────┤\n",
            "│   0.176508    │   0.798089    │    2     │    5     │   7    │     -1     │        7        │\n",
            "├───────────────┼───────────────┼──────────┼──────────┼────────┼────────────┼─────────────────┤\n",
            "│   0.464492    │   0.379486    │    3     │    3     │   6    │     0      │        6        │\n",
            "├───────────────┼───────────────┼──────────┼──────────┼────────┼────────────┼─────────────────┤\n",
            "│   0.0174975   │   0.334512    │    1     │    3     │   4    │     0      │        6        │\n",
            "├───────────────┼───────────────┼──────────┼──────────┼────────┼────────────┼─────────────────┤\n",
            "│   0.601799    │   0.604142    │    4     │    4     │   8    │     0      │        6        │\n",
            "├───────────────┼───────────────┼──────────┼──────────┼────────┼────────────┼─────────────────┤\n",
            "│   0.836871    │   0.989442    │    6     │    6     │   12   │     0      │        6        │\n",
            "├───────────────┼───────────────┼──────────┼──────────┼────────┼────────────┼─────────────────┤\n",
            "│   0.128008    │   0.521672    │    1     │    4     │   5    │     0      │        6        │\n",
            "├───────────────┼───────────────┼──────────┼──────────┼────────┼────────────┼─────────────────┤\n",
            "│   0.990013    │   0.770003    │    6     │    5     │   11   │     0      │        6        │\n",
            "├───────────────┼───────────────┼──────────┼──────────┼────────┼────────────┼─────────────────┤\n",
            "│   0.386818    │    0.65902    │    3     │    4     │   7    │     -1     │        6        │\n",
            "├───────────────┼───────────────┼──────────┼──────────┼────────┼────────────┼─────────────────┤\n",
            "│   0.321249    │   0.638428    │    2     │    4     │   6    │     0      │        5        │\n",
            "├───────────────┼───────────────┼──────────┼──────────┼────────┼────────────┼─────────────────┤\n",
            "│   0.644243    │   0.972463    │    4     │    6     │   10   │     0      │        5        │\n",
            "├───────────────┼───────────────┼──────────┼──────────┼────────┼────────────┼─────────────────┤\n",
            "│   0.319002    │    0.69032    │    2     │    5     │   7    │     -1     │        5        │\n",
            "├───────────────┼───────────────┼──────────┼──────────┼────────┼────────────┼─────────────────┤\n",
            "│    0.45171    │   0.297253    │    3     │    2     │   5    │     0      │        4        │\n",
            "├───────────────┼───────────────┼──────────┼──────────┼────────┼────────────┼─────────────────┤\n",
            "│   0.238401    │   0.923643    │    2     │    6     │   8    │     0      │        4        │\n",
            "├───────────────┼───────────────┼──────────┼──────────┼────────┼────────────┼─────────────────┤\n",
            "│   0.485829    │   0.0304689   │    3     │    1     │   4    │     0      │        4        │\n",
            "├───────────────┼───────────────┼──────────┼──────────┼────────┼────────────┼─────────────────┤\n",
            "│   0.388416    │   0.627766    │    3     │    4     │   7    │     -1     │        4        │\n",
            "├───────────────┼───────────────┼──────────┼──────────┼────────┼────────────┼─────────────────┤\n",
            "│    0.47843    │    0.68898    │    3     │    5     │   8    │     0      │        3        │\n",
            "├───────────────┼───────────────┼──────────┼──────────┼────────┼────────────┼─────────────────┤\n",
            "│   0.0541629   │   0.0671838   │    1     │    1     │   2    │     0      │        3        │\n",
            "├───────────────┼───────────────┼──────────┼──────────┼────────┼────────────┼─────────────────┤\n",
            "│   0.743293    │   0.123144    │    5     │    1     │   6    │     0      │        3        │\n",
            "├───────────────┼───────────────┼──────────┼──────────┼────────┼────────────┼─────────────────┤\n",
            "│   0.820834    │   0.170181    │    5     │    2     │   7    │     -1     │        3        │\n",
            "├───────────────┼───────────────┼──────────┼──────────┼────────┼────────────┼─────────────────┤\n",
            "│   0.387523    │   0.737891    │    3     │    5     │   8    │     0      │        2        │\n",
            "├───────────────┼───────────────┼──────────┼──────────┼────────┼────────────┼─────────────────┤\n",
            "│   0.0700586   │   0.726974    │    1     │    5     │   6    │     0      │        2        │\n",
            "├───────────────┼───────────────┼──────────┼──────────┼────────┼────────────┼─────────────────┤\n",
            "│   0.867763    │    0.65041    │    6     │    4     │   10   │     0      │        2        │\n",
            "├───────────────┼───────────────┼──────────┼──────────┼────────┼────────────┼─────────────────┤\n",
            "│   0.221725    │   0.500215    │    2     │    4     │   6    │     0      │        2        │\n",
            "├───────────────┼───────────────┼──────────┼──────────┼────────┼────────────┼─────────────────┤\n",
            "│   0.345769    │   0.631793    │    3     │    4     │   7    │     -1     │        2        │\n",
            "├───────────────┼───────────────┼──────────┼──────────┼────────┼────────────┼─────────────────┤\n",
            "│   0.287257    │    0.18401    │    2     │    2     │   4    │     0      │        1        │\n",
            "├───────────────┼───────────────┼──────────┼──────────┼────────┼────────────┼─────────────────┤\n",
            "│   0.444687    │   0.645383    │    3     │    4     │   7    │     -1     │        1        │\n",
            "╘═══════════════╧═══════════════╧══════════╧══════════╧════════╧════════════╧═════════════════╛\n",
            "Juego terminado con $0\n"
          ]
        }
      ]
    },
    {
      "cell_type": "markdown",
      "source": [
        "Ahora, el problema nos dice que la ***cantidad inicial disponible es de 20 y se termina cuando se alcancen 50. ***"
      ],
      "metadata": {
        "id": "Yvt5bILTqdbE"
      }
    },
    {
      "cell_type": "code",
      "source": [
        "def partida_f():\n",
        "  cant_i = 20 #Cantidad inicial disponible\n",
        "  objetivo = 50 #Objetivo a alcanzar\n",
        "  ganancia = 1\n",
        "  apuesta = 1\n",
        "  while 0 < cant_i < objetivo: #Se repite siempre que no se termine el dinero o se alcance el objetivo\n",
        "    [u1,u2,d1,d2] = lanzamiento() #Obtenemos los lanzamienros\n",
        "    resultado = d1 + d2 #Sumamos los dados\n",
        "    if resultado in {7, 11}: #Si cae 7 o 11 se gana\n",
        "        cant_i += ganancia\n",
        "    elif resultado in {2, 3, 12}: #Si cae 2,3, o 12 se pierde\n",
        "        cant_i -= apuesta\n",
        "    else:\n",
        "        punto = resultado #Si cae otra cantidad, se le asigna a una variable punto\n",
        "        while True: #Se repite hasta que la suma de los lanzamientos sea igual a la variable punto\n",
        "          [u1,u2,d1,d2] = lanzamiento()\n",
        "          resultado = d1 + d2\n",
        "          if resultado == punto:\n",
        "            cant_i += ganancia\n",
        "            break\n",
        "          elif resultado == 7: #Si cae un 7, se pierde directamente la partida\n",
        "            cant_i -= apuesta\n",
        "            break\n",
        "  return cant_i == 0"
      ],
      "metadata": {
        "id": "fJr4XH4rq-9D"
      },
      "execution_count": 366,
      "outputs": []
    },
    {
      "cell_type": "markdown",
      "source": [
        "La condición de quiebre nos dice que cuando salgamos del ciclo la funcion retornara un 'true = 0' si el dinero del jugador es 0.\n",
        "Para aplicar el ejercicio del libro, no se imprimirá la tabla ya que al hacer las simulaciones esta se haría muy larga."
      ],
      "metadata": {
        "id": "X7N5DFoIrSin"
      }
    },
    {
      "cell_type": "markdown",
      "source": [
        "Para generar la ***probabilidad de quiebre*** haremos la siguiente función"
      ],
      "metadata": {
        "id": "3mYIAM_Vsngf"
      }
    },
    {
      "cell_type": "code",
      "source": [
        "def estimar_probabilidad_quiebre(n_simulaciones):\n",
        "  \"\"\"Estima la probabilidad de quiebre después de n simulaciones.\"\"\"\n",
        "  probabilidad = 0\n",
        "  prob = []\n",
        "  res_1 = []\n",
        "  quiebre = 0\n",
        "  for i in range(n_simulaciones):\n",
        "    res = partida_f()\n",
        "    res_1.append(res)\n",
        "\n",
        "  for i in range(n_simulaciones):\n",
        "    if res_1[i] == True:\n",
        "     quiebre += 1\n",
        "     prob.append(quiebre/(i+1))\n",
        "\n",
        "  probabilidad = quiebre/ n_simulaciones\n",
        "  return  prob, probabilidad"
      ],
      "metadata": {
        "id": "9hhcu1z2stWX"
      },
      "execution_count": 372,
      "outputs": []
    },
    {
      "cell_type": "markdown",
      "source": [
        "Escogemos un ***número más grande de simulaciones***"
      ],
      "metadata": {
        "id": "b-7-Oo0U0syN"
      }
    },
    {
      "cell_type": "code",
      "source": [
        "n_simulaciones = 10000"
      ],
      "metadata": {
        "id": "9ww0Oj4YywIC"
      },
      "execution_count": 373,
      "outputs": []
    },
    {
      "cell_type": "markdown",
      "source": [
        "Calculamos la probabilida de quiebre"
      ],
      "metadata": {
        "id": "UCIu1hrq2Wr6"
      }
    },
    {
      "cell_type": "code",
      "source": [
        "[prob,probabilidad_quiebre] = estimar_probabilidad_quiebre(n_simulaciones)\n",
        "print(f'Probabilidad de quiebre: {probabilidad_quiebre}')"
      ],
      "metadata": {
        "colab": {
          "base_uri": "https://localhost:8080/"
        },
        "id": "aO3Dp4r_xyeu",
        "outputId": "e3a25945-e6a0-439b-f697-1b4077f8adde"
      },
      "execution_count": 374,
      "outputs": [
        {
          "output_type": "stream",
          "name": "stdout",
          "text": [
            "Probabilidad de quiebre: 0.7598\n"
          ]
        }
      ]
    },
    {
      "cell_type": "markdown",
      "source": [
        "Para visualizar mejor la convergencia de la probabilidad, la graficaremos:"
      ],
      "metadata": {
        "id": "oyaQuR630nrc"
      }
    },
    {
      "cell_type": "code",
      "source": [
        "plt.plot(prob)\n",
        "plt.xlabel('Número de simulaciones')\n",
        "plt.ylabel('Probabilidad de quiebra')\n",
        "plt.title('Convergencia de la probabilidad de quiebra')"
      ],
      "metadata": {
        "colab": {
          "base_uri": "https://localhost:8080/",
          "height": 489
        },
        "id": "KDO8sTQh08mp",
        "outputId": "bf503606-f221-49e2-dba9-c5d0f6a71e2e"
      },
      "execution_count": 375,
      "outputs": [
        {
          "output_type": "execute_result",
          "data": {
            "text/plain": [
              "Text(0.5, 1.0, 'Convergencia de la probabilidad de quiebra')"
            ]
          },
          "metadata": {},
          "execution_count": 375
        },
        {
          "output_type": "display_data",
          "data": {
            "text/plain": [
              "<Figure size 640x480 with 1 Axes>"
            ],
            "image/png": "[encoded data removed]"
          },
          "metadata": {}
        }
      ]
    }
  ]
}