{
  "nbformat": 4,
  "nbformat_minor": 0,
  "metadata": {
    "colab": {
      "provenance": [],
      "authorship_tag": "ABX9TyPidQear8ezHpkllMU/ubk1",
      "include_colab_link": true
    },
    "kernelspec": {
      "name": "python3",
      "display_name": "Python 3"
    },
    "language_info": {
      "name": "python"
    }
  },
  "cells": [
    {
      "cell_type": "markdown",
      "metadata": {
        "id": "view-in-github",
        "colab_type": "text"
      },
      "source": [
        "<a href=\"https://colab.research.google.com/github/Aragnzlz/SIMULACION-I/blob/main/PRODUCTO_MEDIO.ipynb\" target=\"_parent\"><img src=\"https://colab.research.google.com/assets/colab-badge.svg\" alt=\"Open In Colab\"/></a>"
      ]
    },
    {
      "cell_type": "code",
      "execution_count": 17,
      "metadata": {
        "colab": {
          "base_uri": "https://localhost:8080/"
        },
        "id": "Qzri1cacyMgu",
        "outputId": "5d570c67-0376-4bad-9389-2d7c83ac66c4"
      },
      "outputs": [
        {
          "output_type": "stream",
          "name": "stdout",
          "text": [
            "Ingresa un número de 3 dígitos: 123\n",
            "Ingresa un número de 3 dígitos: 456\n",
            "Ingresa el número de iteraciones: 20\n",
            "╒════════╤══════╤═══════╤═══════════╕\n",
            "│   ITER │   XN │   XN2 │   XN1*XN2 │\n",
            "╞════════╪══════╪═══════╪═══════════╡\n",
            "│      0 │  123 │   456 │     56088 │\n",
            "├────────┼──────┼───────┼───────────┤\n",
            "│      1 │  456 │   608 │    277248 │\n",
            "├────────┼──────┼───────┼───────────┤\n",
            "│      2 │  608 │   772 │    469376 │\n",
            "├────────┼──────┼───────┼───────────┤\n",
            "│      3 │  772 │   693 │    534996 │\n",
            "├────────┼──────┼───────┼───────────┤\n",
            "│      4 │  693 │   349 │    241857 │\n",
            "├────────┼──────┼───────┼───────────┤\n",
            "│      5 │  349 │   418 │    145882 │\n",
            "├────────┼──────┼───────┼───────────┤\n",
            "│      6 │  418 │   458 │    191444 │\n",
            "├────────┼──────┼───────┼───────────┤\n",
            "│      7 │  458 │   914 │    418612 │\n",
            "├────────┼──────┼───────┼───────────┤\n",
            "│      8 │  914 │   186 │    170004 │\n",
            "├────────┼──────┼───────┼───────────┤\n",
            "│      9 │  186 │   700 │    130200 │\n",
            "├────────┼──────┼───────┼───────────┤\n",
            "│     10 │  700 │   302 │    211400 │\n",
            "├────────┼──────┼───────┼───────────┤\n",
            "│     11 │  302 │   114 │     34428 │\n",
            "├────────┼──────┼───────┼───────────┤\n",
            "│     12 │  114 │   442 │     50388 │\n",
            "├────────┼──────┼───────┼───────────┤\n",
            "│     13 │  442 │    38 │     16796 │\n",
            "├────────┼──────┼───────┼───────────┤\n",
            "│     14 │   38 │   679 │     25802 │\n",
            "├────────┼──────┼───────┼───────────┤\n",
            "│     15 │  679 │   580 │    393820 │\n",
            "├────────┼──────┼───────┼───────────┤\n",
            "│     16 │  580 │   938 │    544040 │\n",
            "├────────┼──────┼───────┼───────────┤\n",
            "│     17 │  938 │   440 │    412720 │\n",
            "├────────┼──────┼───────┼───────────┤\n",
            "│     18 │  440 │   127 │     55880 │\n",
            "├────────┼──────┼───────┼───────────┤\n",
            "│     19 │  127 │   588 │     74676 │\n",
            "╘════════╧══════╧═══════╧═══════════╛\n"
          ]
        }
      ],
      "source": [
        "#Pedimos al usuario ingresar un número de 3 dígitos\n",
        "num1 = input(\"Ingresa un número de 3 dígitos: \")\n",
        "num2 = input(\"Ingresa un número de 3 dígitos: \")\n",
        "ite = input(\"Ingresa el número de iteraciones: \")\n",
        "ite = int(ite)\n",
        "xn_1 = int(num1)\n",
        "xn_2 = int(num2)\n",
        "p = 3\n",
        "xn1 = []\n",
        "xn2 = []\n",
        "nuevo = []\n",
        "xnprod = []\n",
        "\n",
        "for i in range(ite):\n",
        "    x_n1 = xn_1\n",
        "    x_n2 = xn_2\n",
        "    xn1.insert(i,x_n1)\n",
        "    xn2.insert(i,x_n2)\n",
        "    xn_prod = x_n1*x_n2\n",
        "    xnprod.insert(i,xn_prod)\n",
        "    xn_prod = str(xn_prod)\n",
        "    nd = len(xn_prod)\n",
        "    if nd % 2 == 0:\n",
        "       xn_prod = ''.join([\"0\",xn_prod])\n",
        "       nd = len(xn_prod)\n",
        "       j = nd - p\n",
        "       j = j/2\n",
        "       b = int(j)\n",
        "       xn_1 = x_n2\n",
        "       xn_2 = int(xn_prod[b:-b])\n",
        "    else:\n",
        "      j = nd - p\n",
        "      j = j/2\n",
        "      b = int(j)\n",
        "      xn_1 = x_n2\n",
        "      xn_2 = int(xn_prod[b:-b])\n",
        "\n",
        "A = [[i, xn1[i], xn2[i], xnprod[i]] for i in range(len(xn1))]\n",
        "head = [\"ITER\", \"XN\", \"XN2\",\"XN1*XN2\"]\n",
        "A.insert(0,head)\n",
        "\n",
        "from tabulate import tabulate\n",
        "# Imprimir los datos en formato de tabla\n",
        "print(tabulate(A, headers=\"firstrow\", tablefmt=\"fancy_grid\"))"
      ]
    }
  ]
}