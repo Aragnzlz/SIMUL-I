{
  "cells": [
    {
      "cell_type": "markdown",
      "metadata": {
        "id": "view-in-github",
        "colab_type": "text"
      },
      "source": [
        "<a href=\"https://colab.research.google.com/github/Aragnzlz/SIMULACION-I/blob/main/Ejemplo_4.ipynb\" target=\"_parent\"><img src=\"https://colab.research.google.com/assets/colab-badge.svg\" alt=\"Open In Colab\"/></a>"
      ]
    },
    {
      "cell_type": "markdown",
      "id": "c21e5530",
      "metadata": {
        "id": "c21e5530"
      },
      "source": [
        "# Ejemplo: Flecha y cojinete"
      ]
    },
    {
      "cell_type": "markdown",
      "id": "61f9bd36",
      "metadata": {
        "id": "61f9bd36"
      },
      "source": [
        "Una flecha será embonada en un cojinete como se muestra a continuación\n",
        "\n",
        "<img src=\"cojinete.png\">"
      ]
    },
    {
      "cell_type": "markdown",
      "id": "5f658ca1",
      "metadata": {
        "id": "5f658ca1"
      },
      "source": [
        "Si $x_1$ sigue una distribución normal con media $1.5$ y varianza $0.0016$, y $x_2$ esta misma distribución con media $1.48$ y varianza $0.0009$, determine:\n",
        "\n",
        "a) La probabilidad de que haya interferencia.\n",
        "\n",
        "b) El número de veces que es necesario simular el experimento, si se quiere que la probabilidad de interferencia estimada difiera de su valor verdadero en menos de $0.01$, con un nivel de seguridad del $95\\%.$"
      ]
    },
    {
      "cell_type": "markdown",
      "id": "fac00420",
      "metadata": {
        "id": "fac00420"
      },
      "source": [
        "Vamos a resolver este problema, procurando seguir la metodología vista en el curso."
      ]
    },
    {
      "cell_type": "markdown",
      "id": "ccd32164",
      "metadata": {
        "id": "ccd32164"
      },
      "source": [
        "### 1. Identifique las variables\n",
        "\n",
        "Tenemos dos: $x_1$ y $x_2$."
      ]
    },
    {
      "cell_type": "markdown",
      "id": "ae8735e5",
      "metadata": {
        "id": "ae8735e5"
      },
      "source": [
        "### 2 y 3. Determine la distribución de probabilidad y modele las variables aleatorias\n",
        "\n",
        "En el planteamiento ya se especifica que $x_1 \\sim N(1.5, 0.04)$ y que $x_2 \\sim N(1.48, 0.03)$."
      ]
    },
    {
      "cell_type": "markdown",
      "id": "b1b57a13",
      "metadata": {
        "id": "b1b57a13"
      },
      "source": [
        "### 4. Defina el modelo del sistema y los objetivos de la simulación\n",
        "\n",
        "La diferencia $x_1 - x_2$ modela adecuadamente el sistema.\n",
        "\n",
        "Si $x_2 - x_1 > 0$ el diametro de la flecha es más grande que el espacio en el cojinte y, por tanto, hay interferencia. De lo contrario, las piezas embonan sin problema.\n",
        "\n",
        "Objetivo: determinar la frecuencia con que esto ocurre, lo cual nos da una esrimación de la probabilidad de interefrencia.\n",
        "\n",
        "Una forma de implementarlo es mediante el siguiente código."
      ]
    },
    {
      "cell_type": "code",
      "execution_count": 4,
      "id": "191b1e9b",
      "metadata": {
        "id": "191b1e9b"
      },
      "outputs": [],
      "source": [
        "import numpy as np\n",
        "import random\n",
        "import matplotlib.pyplot as plt\n",
        "from scipy.stats import norm"
      ]
    },
    {
      "cell_type": "markdown",
      "source": [
        "Generamos una función para identificar el número de veces que existe interferencia."
      ],
      "metadata": {
        "id": "q3Ti3iL_e11A"
      },
      "id": "q3Ti3iL_e11A"
    },
    {
      "cell_type": "code",
      "execution_count": 5,
      "id": "e64c27d2",
      "metadata": {
        "id": "e64c27d2"
      },
      "outputs": [],
      "source": [
        "def interferencia():                #Esta función devuelve el valor 1 si hay interferencia o 0 si no la hay.\n",
        "    interf=0\n",
        "    x_1 = random.gauss(1.50,0.04)    #La funcion gauss genera un número que sigue una distribucion normal con\n",
        "    x_2 = random.gauss(1.48,0.03)   # la media y la desvicion estandar especificados.\n",
        "    if 0.0 < x_2 - x_1:\n",
        "        interf += 1\n",
        "    return interf #Nos devuelve un vector de 0´s y 1´s"
      ]
    },
    {
      "cell_type": "markdown",
      "id": "d6186dac",
      "metadata": {
        "id": "d6186dac"
      },
      "source": [
        "### 5. Diseñe el experimento\n",
        "\n",
        "Para estimar la probabilidad de interferencia, ejecutamos $n$ veces la función anterior y calculamos de manera acumulativa\n",
        "la probabilidad de interferencia."
      ]
    },
    {
      "cell_type": "code",
      "execution_count": 10,
      "id": "f9a766a5",
      "metadata": {
        "id": "f9a766a5"
      },
      "outputs": [],
      "source": [
        "def prob_inter(n):\n",
        "    prob = []                       # Esta funcion devuelve esta lista \"prob\", con los valores de la probabilidad\n",
        "    inter = 0                       # estimada al contar las veces que hay interferencia y dividir entre las veces que\n",
        "    for i in range(n):              # se ha reptido la observacion mientras aumenta el numero de iteraciones.\n",
        "        inter += interferencia()\n",
        "        prob.append(inter/(i+1))\n",
        "    return prob"
      ]
    },
    {
      "cell_type": "code",
      "execution_count": 16,
      "id": "8099a245",
      "metadata": {
        "id": "8099a245"
      },
      "outputs": [],
      "source": [
        "X = prob_inter(50000)                # Asignamos valores a n y realizamos el experimento"
      ]
    },
    {
      "cell_type": "code",
      "execution_count": 17,
      "id": "c5a5a3c2",
      "metadata": {
        "colab": {
          "base_uri": "https://localhost:8080/",
          "height": 448
        },
        "id": "c5a5a3c2",
        "outputId": "a585c8cc-3894-443e-b100-ac212803239e"
      },
      "outputs": [
        {
          "output_type": "execute_result",
          "data": {
            "text/plain": [
              "[<matplotlib.lines.Line2D at 0x7de9f02d5d80>]"
            ]
          },
          "metadata": {},
          "execution_count": 17
        },
        {
          "output_type": "display_data",
          "data": {
            "text/plain": [
              "<Figure size 640x480 with 1 Axes>"
            ],
            "image/png": "[encoded data removed]"
          },
          "metadata": {}
        }
      ],
      "source": [
        "plt.plot(X)                         # La gráfica muestra que la convergencia está garantizada con 500 iteraciones\n",
        "                                    # Sin embargo, diferentes ejecuciones darán resultados distintos"
      ]
    },
    {
      "cell_type": "code",
      "execution_count": 18,
      "id": "4ac4c689",
      "metadata": {
        "colab": {
          "base_uri": "https://localhost:8080/"
        },
        "id": "4ac4c689",
        "outputId": "da2c49f1-0334-42fa-a8ba-839bb0d84760"
      },
      "outputs": [
        {
          "output_type": "stream",
          "name": "stdout",
          "text": [
            "0.3381821301962535 0.006002173779419417\n"
          ]
        }
      ],
      "source": [
        "print(np.mean(X), np.std(X))"
      ]
    },
    {
      "cell_type": "markdown",
      "id": "34727279",
      "metadata": {
        "id": "34727279"
      },
      "source": [
        "### 6. Repita el experimento $n$ veces\n",
        "\n",
        "Una forma de hacerlo es mediante el siguiente codigo."
      ]
    },
    {
      "cell_type": "code",
      "execution_count": 22,
      "id": "908f1884",
      "metadata": {
        "id": "908f1884"
      },
      "outputs": [],
      "source": [
        "def modelo(n):\n",
        "    lista=[]\n",
        "    for i in range(n):\n",
        "        s = prob_inter(500)\n",
        "        lista.append(np.mean(s))\n",
        "    return lista"
      ]
    },
    {
      "cell_type": "code",
      "execution_count": 23,
      "id": "34868564",
      "metadata": {
        "id": "34868564"
      },
      "outputs": [],
      "source": [
        "Y = modelo(120)"
      ]
    },
    {
      "cell_type": "markdown",
      "source": [
        "Y es una muesfra donde cada $x_i$ es la probabilidad de que exista interferencia."
      ],
      "metadata": {
        "id": "sZPZBsBqg0Vq"
      },
      "id": "sZPZBsBqg0Vq"
    },
    {
      "cell_type": "code",
      "execution_count": 13,
      "id": "8a95845e",
      "metadata": {
        "colab": {
          "base_uri": "https://localhost:8080/",
          "height": 430
        },
        "id": "8a95845e",
        "outputId": "63f0ba61-5ce7-4b33-b91b-85cbdcee7f85"
      },
      "outputs": [
        {
          "output_type": "display_data",
          "data": {
            "text/plain": [
              "<Figure size 640x480 with 1 Axes>"
            ],
            "image/png": "[encoded data removed]"
          },
          "metadata": {}
        }
      ],
      "source": [
        "plt.hist(Y)\n",
        "plt.show()"
      ]
    },
    {
      "cell_type": "code",
      "execution_count": 14,
      "id": "e892a16c",
      "metadata": {
        "colab": {
          "base_uri": "https://localhost:8080/"
        },
        "id": "e892a16c",
        "outputId": "b0e7752a-7091-40e2-b669-6699abd07151"
      },
      "outputs": [
        {
          "output_type": "stream",
          "name": "stdout",
          "text": [
            "0.34681098086870393 0.03193148704180587\n"
          ]
        }
      ],
      "source": [
        "print(np.mean(Y), np.std(Y)) #Probabilidad de interferencia"
      ]
    },
    {
      "cell_type": "markdown",
      "id": "e5dc2362",
      "metadata": {
        "id": "e5dc2362"
      },
      "source": [
        "### Paso 7. Hallamos el intervalo de confianza.\n",
        "\n",
        "$$\\bar{x}-z_{\\alpha/2} \\cdot \\frac{s}{\\sqrt{n}} < \\mu < \\bar{x}+z_{\\alpha/2}\\cdot \\frac{s}{\\sqrt{n}}$$"
      ]
    },
    {
      "cell_type": "markdown",
      "source": [
        "$\\textbf{PARA DETERMINAR EL INTERVALO DE CONFIANZA}$ \\\\\n",
        "Para determinar el intervalo de confianza podemos utilizar el método del pivote.\n",
        "Determinemos el intervalo de confianza para $\\mu$ , al nivel de sgnificancia $1-\\alpha$\n",
        "\n",
        "Sea\n",
        "$$\n",
        "U = \\frac{\\bar{x}-E(\\bar{x})}{\\sqrt{V[\\bar{x}]}}\n",
        "$$\n",
        "El cual podemos utilizar como pivote.\n",
        "\n",
        "Para $\\bar{x}$ tenemos que\n",
        "*   $E[\\bar{x}] = E[\\frac{1}{n} (x_1 +...+ x_n)] = \\frac{1}{n} (E[x_1] + ...+ E[x_n]) = \\frac{n\\mu}{n} = \\mu $\n",
        "*   $var[\\bar{x}] = var[\\frac{1}{n} (x_1 + ...+ x_n)] = \\frac{1}{n^2} (var[x_1] + ...+ var[x_n]) = \\frac{n\\sigma^2}{n^2} = \\frac{\\sigma^2}{n}$\n",
        "Sustituimos en U\n",
        "\n",
        "$$\n",
        "U = z = \\frac{\\bar{x}-E(\\bar{x})}{\\sqrt{V[\\bar{x}]}} = \\frac{\\bar{x}-\\mu}{\\sqrt{\\frac{\\sigma^2}{n}}} = \\frac{\\bar{x}-\\mu}{\\sigma}\\sqrt{n} \\sim N(0,1) --- (1)\n",
        "$$\n",
        "Donde z es un pivote.\n",
        "\n",
        "Para determinarl el intervalo de confizanza para $\\mu$ tenemos que\n",
        "$$\n",
        "(-z_{\\frac{\\alpha}{2}} < z < z_{\\frac{\\alpha}{2}})\n",
        "$$\n",
        "Ya que es una prueba de dos colas, ahora, dado que buscamos el intervalo para $\\mu$, utilizamos (1) para despejar a $\\mu$. \\\\\n",
        "Sustutuyendo\n",
        "$$\n",
        "-z_{\\frac{\\alpha}{2}} < \\frac{\\bar{x}-\\mu}{\\sigma}\\sqrt{n} < z_{\\frac{\\alpha}{2}} \\\\\n",
        "-z_{\\frac{\\alpha}{2}} \\sigma < (\\bar{x}-\\mu)\\sqrt{n} < z_{\\frac{\\alpha}{2}} \\sigma \\\\\n",
        "-z_{\\frac{\\alpha}{2}} \\frac{\\sigma}{\\sqrt{n}} < (\\bar{x}-\\mu) < z_{\\frac{\\alpha}{2}} \\frac{\\sigma}{\\sqrt{n}} \\\\\n",
        "\\bar{x}-z_{\\frac{\\alpha}{2}} \\frac{\\sigma}{\\sqrt{n}} < \\mu < \\bar{x} +z_{\\frac{\\alpha}{2}} \\frac{\\sigma}{\\sqrt{n}}\n",
        "$$\n",
        "\n",
        "Por lo tanto, el nivel de confianza para $\\mu$ al nivel de confianza $1-\\alpha$ es:\n",
        "$$\n",
        "(\\bar{x}-z_{\\frac{\\alpha}{2}} \\frac{\\sigma}{\\sqrt{n}}, \\bar{x} +z_{\\frac{\\alpha}{2}} \\frac{\\sigma}{\\sqrt{n}})\n",
        "$$"
      ],
      "metadata": {
        "id": "KdXGCwWfiGtp"
      },
      "id": "KdXGCwWfiGtp"
    },
    {
      "cell_type": "code",
      "execution_count": null,
      "id": "23d0b48e",
      "metadata": {
        "colab": {
          "base_uri": "https://localhost:8080/"
        },
        "id": "23d0b48e",
        "outputId": "9d5f44cb-d335-44b8-8fa7-2d27f00327a4"
      },
      "outputs": [
        {
          "output_type": "execute_result",
          "data": {
            "text/plain": [
              "0.3431585123951437"
            ]
          },
          "metadata": {},
          "execution_count": 23
        }
      ],
      "source": [
        "np.mean(Y)"
      ]
    },
    {
      "cell_type": "code",
      "source": [
        "np.std(Y)"
      ],
      "metadata": {
        "colab": {
          "base_uri": "https://localhost:8080/"
        },
        "id": "mhRETFXQYqLd",
        "outputId": "f94ac515-28f5-49a6-8741-2839a22dcb79"
      },
      "id": "mhRETFXQYqLd",
      "execution_count": 19,
      "outputs": [
        {
          "output_type": "execute_result",
          "data": {
            "text/plain": [
              "0.03193148704180587"
            ]
          },
          "metadata": {},
          "execution_count": 19
        }
      ]
    },
    {
      "cell_type": "code",
      "execution_count": null,
      "id": "b29c74e6",
      "metadata": {
        "colab": {
          "base_uri": "https://localhost:8080/"
        },
        "id": "b29c74e6",
        "outputId": "d7e03b60-ba9d-4702-b3b6-eb386ceb89f9"
      },
      "outputs": [
        {
          "output_type": "execute_result",
          "data": {
            "text/plain": [
              "(0.3346527670160421, 0.35166425777424537)"
            ]
          },
          "metadata": {},
          "execution_count": 24
        }
      ],
      "source": [
        "np.mean(Y) - 1.96*np.std(Y)/np.sqrt(50), np.mean(Y) + 1.96*np.std(Y)/np.sqrt(50)"
      ]
    },
    {
      "cell_type": "markdown",
      "id": "112c0954",
      "metadata": {
        "id": "112c0954"
      },
      "source": [
        "### Para determinar el número de simulaciones"
      ]
    },
    {
      "cell_type": "markdown",
      "source": [
        "Para encontrat el nímero de simulaciones, debemos considerar la desviación estándar $\\sigma$ y el nivel de confianza. Además es importante definir un margen de error, el cual llamaremos $\\epsilon$\n",
        "\n",
        "Ahora, supongamos que estamos estimando la media de una población a partir de una muestra. El intervalo de confianza para la media de una población normal se puede escribir como:\n",
        "\n",
        "$$\n",
        "\\hat{x} \\pm z_{\\frac{\\alpha}{2}}\\frac{\\sigma}{\\sqrt{N}}\n",
        "$$\n",
        "\n",
        "Definimos el margen de error como\n",
        "\n",
        "$$\n",
        "\\epsilon = z_{\\frac{\\alpha}{2}}\\frac{\\sigma}{\\sqrt{N}}\n",
        "$$\n",
        "\n",
        "Despejamos N\n",
        "\n",
        "$$\n",
        "\\epsilon \\sqrt{N} =  z_{\\frac{\\alpha}{2}}\\sigma \\rightarrow \\sqrt{N} = \\frac{ z_{\\frac{\\alpha}{2}}\\sigma }{\\epsilon}) → N = \\left ( \\frac{ z_{\\frac{\\alpha}{2}}\\sigma }{\\epsilon} \\right) ^2\n",
        "$$\n",
        "Consideramos la precisión del estimador\n",
        "En algunos casos, se utiliza una forma modificada de la fórmula para asegurar mayor precisión, considerando que se están utilizando límites dobles (superior e inferior). Esto puede resultar en la fórmula con un factor adicional de 2, especialmente en contextos de simulaciones o donde se desea una mayor robustez en la estimación:\n",
        "$$ N > \\Bigg( \\frac{2 \\sigma z_{\\alpha/2}}{\\epsilon} \\Bigg) ^2 $$"
      ],
      "metadata": {
        "id": "nPa9ixVvqKvy"
      },
      "id": "nPa9ixVvqKvy"
    },
    {
      "cell_type": "markdown",
      "id": "0a1a63e7",
      "metadata": {
        "id": "0a1a63e7"
      },
      "source": [
        "$$ N > \\Bigg( \\frac{2 \\sigma z_{\\alpha/2}}{\\epsilon} \\Bigg) ^2 $$"
      ]
    },
    {
      "cell_type": "code",
      "execution_count": 15,
      "id": "1478d745",
      "metadata": {
        "id": "1478d745"
      },
      "outputs": [],
      "source": [
        "N = (2*np.std(X)*1.96/0.01)**2"
      ]
    },
    {
      "cell_type": "code",
      "execution_count": 16,
      "id": "fa6ae0ce",
      "metadata": {
        "id": "fa6ae0ce",
        "colab": {
          "base_uri": "https://localhost:8080/"
        },
        "outputId": "208ef6c0-94fc-4884-d8e1-d2061d68ff20"
      },
      "outputs": [
        {
          "output_type": "stream",
          "name": "stdout",
          "text": [
            "5.514961821189903\n"
          ]
        }
      ],
      "source": [
        "print(N)"
      ]
    },
    {
      "cell_type": "markdown",
      "id": "a6d1c695",
      "metadata": {
        "id": "a6d1c695"
      },
      "source": [
        "### Podemos comparar con la sulución analítica del problema.\n",
        "\n",
        "Para ello usamos la teoría sobre la suma de variables con distribución normal."
      ]
    },
    {
      "cell_type": "code",
      "execution_count": 17,
      "id": "7284bee0",
      "metadata": {
        "id": "7284bee0",
        "colab": {
          "base_uri": "https://localhost:8080/"
        },
        "outputId": "87b9064c-d877-4daa-d6c6-0c4798cda006"
      },
      "outputs": [
        {
          "output_type": "execute_result",
          "data": {
            "text/plain": [
              "0.3445782583896758"
            ]
          },
          "metadata": {},
          "execution_count": 17
        }
      ],
      "source": [
        "norm.cdf(-0.04, -0.02, 0.05)"
      ]
    },
    {
      "cell_type": "code",
      "execution_count": 18,
      "id": "a1a842a2",
      "metadata": {
        "id": "a1a842a2",
        "colab": {
          "base_uri": "https://localhost:8080/"
        },
        "outputId": "73a642aa-0ecb-4e65-91e5-dcfa78b33856"
      },
      "outputs": [
        {
          "output_type": "execute_result",
          "data": {
            "text/plain": [
              "-0.0022327224790281153"
            ]
          },
          "metadata": {},
          "execution_count": 18
        }
      ],
      "source": [
        "norm.cdf(-0.04, -0.02, 0.05)-np.mean(Y)"
      ]
    },
    {
      "cell_type": "markdown",
      "source": [
        "$\\textbf{DE MANERA ANALITICA}$ \\\\\n",
        "Para resolver el problema de la probabilidad de interferencia entre la flecha y el cojinete, necesitamos comparar las distribuciones de sus diámetros. Vamos a definir los siguientes términos y sus distribuciones:\n",
        "\n",
        "\n",
        "*    $x_1 \\sim N(1.5, 0.0016)$\n",
        "*    $x_2 \\sim N(1.48, 0.0009)$\n",
        "\n",
        "Si $x_2 - x_1 > 0$  el diametro de la flecha es más grande que el espacio en el cojinte y, por tanto, hay interferencia. De lo contrario, las piezas embonan sin problema. \\\\\n",
        "Para encontrar la probabilidad de interferencia, definimos una nueva variable\n",
        "Z que representa la diferencia entre los diámetros:\n",
        "\n",
        "Sea $Z = x_2 - x_1$ aplicamos el teorema de la suma de variables con distribución normal.\n",
        "\n",
        "Sera $x_1 \\sim N(\\mu_1, \\sigma_1^2) $ y $x_2 \\sim N(\\mu_2, \\sigma_2^2) $\n",
        "\n",
        "\n",
        "*   $E[Z] = E[x_2 - x_1] = E[x_2] - E[x_1] = \\mu_2 - \\mu_1$\n",
        "*   $var[Z] = var[(-1)(x_1+x_2)]] = (-1)^2 var[x_1+x_2] = var[x_1] + var[x_2] = \\sigma_1^2 + \\sigma_2^2$\n",
        "\n",
        "Sutituyendo, tenemos que\n",
        "\n",
        "$$\n",
        "E[Z] = 1.48-1.5 = -0.02 \\\\\n",
        "V[Z] = 0.0016 + 0.0009 = 0.0025\n",
        "$$\n",
        "\n",
        "La probabilidad de que haya interferencia es la probabilidad de que Z > 0\n",
        "\n",
        "Para econtrar esta probabilidad podemos estandarizar Z  para convertirlo en una distribución normal estandar.\n",
        "\n",
        "$$\n",
        "Z' = \\frac{Z - \\mu_z}{\\sqrt{\\sigma_z}} = \\frac{0+0.02}{\\sqrt{0.0025}}=  0.4\n",
        "$$\n",
        "\n",
        "De tal manera que\n",
        "$$\n",
        "P(Z' > 0 ) = P (Z' >  0.4) = 0.3446\n",
        "$$\n",
        "\n",
        "El cual lo encontramos de la tabla de una distribución normal.\n",
        "Esta probabilidad se puede verificar facilmente comparandola con la obtenida en la simulación.\n",
        "\n"
      ],
      "metadata": {
        "id": "0S6fkiPH_SLf"
      },
      "id": "0S6fkiPH_SLf"
    }
  ],
  "metadata": {
    "kernelspec": {
      "display_name": "Python 3 (ipykernel)",
      "language": "python",
      "name": "python3"
    },
    "language_info": {
      "codemirror_mode": {
        "name": "ipython",
        "version": 3
      },
      "file_extension": ".py",
      "mimetype": "text/x-python",
      "name": "python",
      "nbconvert_exporter": "python",
      "pygments_lexer": "ipython3",
      "version": "3.7.3"
    },
    "colab": {
      "provenance": [],
      "include_colab_link": true
    }
  },
  "nbformat": 4,
  "nbformat_minor": 5
}