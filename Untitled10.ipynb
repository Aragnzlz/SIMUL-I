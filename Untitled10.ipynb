{
  "nbformat": 4,
  "nbformat_minor": 0,
  "metadata": {
    "colab": {
      "provenance": [],
      "authorship_tag": "ABX9TyM7+k7I1+o06mlJJNlFj7Xj",
      "include_colab_link": true
    },
    "kernelspec": {
      "name": "python3",
      "display_name": "Python 3"
    },
    "language_info": {
      "name": "python"
    }
  },
  "cells": [
    {
      "cell_type": "markdown",
      "metadata": {
        "id": "view-in-github",
        "colab_type": "text"
      },
      "source": [
        "<a href=\"https://colab.research.google.com/github/Aragnzlz/SIMULACION-I/blob/main/Untitled10.ipynb\" target=\"_parent\"><img src=\"https://colab.research.google.com/assets/colab-badge.svg\" alt=\"Open In Colab\"/></a>"
      ]
    },
    {
      "cell_type": "code",
      "execution_count": null,
      "metadata": {
        "id": "Ncz9GscMySAH"
      },
      "outputs": [],
      "source": [
        "import random as rnd\n",
        "import numpy as np #Esta libreria incluye algunas funciones matematicas. No necesitamos math\n",
        "import matplotlib.pyplot as plt\n",
        "import math"
      ]
    },
    {
      "cell_type": "code",
      "source": [
        "def expo(n):\n",
        "  Lista = []\n",
        "  for i in range(n):\n",
        "    #Generamos una uniforme\n",
        "    u = rnd.random() #Genera números aleatorios entre 0 y 1\n",
        "    x = -2*math.sqrt(1-u)+2\n",
        "    Lista.append(x)#Agregamos los elementos a una lista\n",
        "  return Lista"
      ],
      "metadata": {
        "id": "G3usbDaPyWlw"
      },
      "execution_count": null,
      "outputs": []
    },
    {
      "cell_type": "code",
      "source": [
        "G = expo(100000)"
      ],
      "metadata": {
        "id": "6ijaX8reyZ_5"
      },
      "execution_count": null,
      "outputs": []
    },
    {
      "cell_type": "code",
      "source": [
        "mu = np.mean(G)\n",
        "print(mu)\n",
        "sigma = np.var(G)\n",
        "print(sigma)"
      ],
      "metadata": {
        "colab": {
          "base_uri": "https://localhost:8080/"
        },
        "id": "Pjp7tjT7ydcZ",
        "outputId": "31aee18a-59f6-4a60-fbbf-4579b49653c4"
      },
      "execution_count": null,
      "outputs": [
        {
          "output_type": "stream",
          "name": "stdout",
          "text": [
            "0.6648091562069465\n",
            "0.22201483004693723\n"
          ]
        }
      ]
    },
    {
      "cell_type": "code",
      "source": [
        "plt.hist(G,bins = 200, color = \"lightblue\")"
      ],
      "metadata": {
        "colab": {
          "base_uri": "https://localhost:8080/",
          "height": 1000
        },
        "id": "E-wXE7l3yfyo",
        "outputId": "643d0796-364c-41b2-bc22-2e468fdbdba2"
      },
      "execution_count": null,
      "outputs": [
        {
          "output_type": "execute_result",
          "data": {
            "text/plain": [
              "(array([ 993., 1024., 1013.,  962., 1007.,  888.,  990.,  935.,  987.,\n",
              "         978.,  974.,  940.,  946.,  948.,  918.,  931.,  940.,  868.,\n",
              "         936.,  872.,  885.,  904.,  888.,  892.,  827.,  846.,  856.,\n",
              "         871.,  880.,  861.,  839.,  826.,  868.,  871.,  801.,  819.,\n",
              "         814.,  851.,  776.,  850.,  789.,  827.,  773.,  788.,  724.,\n",
              "         765.,  795.,  758.,  761.,  763.,  727.,  724.,  734.,  740.,\n",
              "         736.,  732.,  703.,  700.,  756.,  732.,  704.,  728.,  645.,\n",
              "         698.,  680.,  692.,  674.,  687.,  642.,  606.,  684.,  593.,\n",
              "         658.,  633.,  586.,  614.,  630.,  561.,  592.,  604.,  554.,\n",
              "         564.,  631.,  572.,  565.,  551.,  588.,  604.,  551.,  543.,\n",
              "         533.,  560.,  537.,  522.,  518.,  516.,  530.,  477.,  533.,\n",
              "         495.,  472.,  502.,  465.,  512.,  488.,  486.,  467.,  447.,\n",
              "         433.,  430.,  434.,  409.,  429.,  420.,  434.,  386.,  423.,\n",
              "         373.,  424.,  441.,  437.,  357.,  368.,  417.,  376.,  373.,\n",
              "         367.,  386.,  368.,  368.,  367.,  351.,  315.,  341.,  311.,\n",
              "         348.,  332.,  305.,  313.,  286.,  302.,  279.,  296.,  277.,\n",
              "         253.,  268.,  248.,  279.,  257.,  251.,  238.,  260.,  237.,\n",
              "         255.,  237.,  231.,  228.,  204.,  215.,  208.,  213.,  181.,\n",
              "         171.,  165.,  170.,  183.,  161.,  188.,  179.,  158.,  158.,\n",
              "         126.,  148.,  135.,  128.,  121.,  109.,  111.,  108.,   99.,\n",
              "          97.,   96.,   80.,   73.,   87.,   86.,   58.,   69.,   70.,\n",
              "          54.,   48.,   41.,   49.,   39.,   20.,   19.,   30.,   13.,\n",
              "           9.,    9.]),\n",
              " array([2.08174980e-06, 9.96768214e-03, 1.99332825e-02, 2.98988829e-02,\n",
              "        3.98644833e-02, 4.98300837e-02, 5.97956841e-02, 6.97612845e-02,\n",
              "        7.97268849e-02, 8.96924853e-02, 9.96580857e-02, 1.09623686e-01,\n",
              "        1.19589286e-01, 1.29554887e-01, 1.39520487e-01, 1.49486088e-01,\n",
              "        1.59451688e-01, 1.69417288e-01, 1.79382889e-01, 1.89348489e-01,\n",
              "        1.99314090e-01, 2.09279690e-01, 2.19245290e-01, 2.29210891e-01,\n",
              "        2.39176491e-01, 2.49142092e-01, 2.59107692e-01, 2.69073292e-01,\n",
              "        2.79038893e-01, 2.89004493e-01, 2.98970094e-01, 3.08935694e-01,\n",
              "        3.18901294e-01, 3.28866895e-01, 3.38832495e-01, 3.48798095e-01,\n",
              "        3.58763696e-01, 3.68729296e-01, 3.78694897e-01, 3.88660497e-01,\n",
              "        3.98626097e-01, 4.08591698e-01, 4.18557298e-01, 4.28522899e-01,\n",
              "        4.38488499e-01, 4.48454099e-01, 4.58419700e-01, 4.68385300e-01,\n",
              "        4.78350901e-01, 4.88316501e-01, 4.98282101e-01, 5.08247702e-01,\n",
              "        5.18213302e-01, 5.28178903e-01, 5.38144503e-01, 5.48110103e-01,\n",
              "        5.58075704e-01, 5.68041304e-01, 5.78006904e-01, 5.87972505e-01,\n",
              "        5.97938105e-01, 6.07903706e-01, 6.17869306e-01, 6.27834906e-01,\n",
              "        6.37800507e-01, 6.47766107e-01, 6.57731708e-01, 6.67697308e-01,\n",
              "        6.77662908e-01, 6.87628509e-01, 6.97594109e-01, 7.07559710e-01,\n",
              "        7.17525310e-01, 7.27490910e-01, 7.37456511e-01, 7.47422111e-01,\n",
              "        7.57387712e-01, 7.67353312e-01, 7.77318912e-01, 7.87284513e-01,\n",
              "        7.97250113e-01, 8.07215713e-01, 8.17181314e-01, 8.27146914e-01,\n",
              "        8.37112515e-01, 8.47078115e-01, 8.57043715e-01, 8.67009316e-01,\n",
              "        8.76974916e-01, 8.86940517e-01, 8.96906117e-01, 9.06871717e-01,\n",
              "        9.16837318e-01, 9.26802918e-01, 9.36768519e-01, 9.46734119e-01,\n",
              "        9.56699719e-01, 9.66665320e-01, 9.76630920e-01, 9.86596521e-01,\n",
              "        9.96562121e-01, 1.00652772e+00, 1.01649332e+00, 1.02645892e+00,\n",
              "        1.03642452e+00, 1.04639012e+00, 1.05635572e+00, 1.06632132e+00,\n",
              "        1.07628692e+00, 1.08625252e+00, 1.09621812e+00, 1.10618373e+00,\n",
              "        1.11614933e+00, 1.12611493e+00, 1.13608053e+00, 1.14604613e+00,\n",
              "        1.15601173e+00, 1.16597733e+00, 1.17594293e+00, 1.18590853e+00,\n",
              "        1.19587413e+00, 1.20583973e+00, 1.21580533e+00, 1.22577093e+00,\n",
              "        1.23573653e+00, 1.24570213e+00, 1.25566773e+00, 1.26563333e+00,\n",
              "        1.27559893e+00, 1.28556453e+00, 1.29553013e+00, 1.30549573e+00,\n",
              "        1.31546133e+00, 1.32542693e+00, 1.33539253e+00, 1.34535813e+00,\n",
              "        1.35532374e+00, 1.36528934e+00, 1.37525494e+00, 1.38522054e+00,\n",
              "        1.39518614e+00, 1.40515174e+00, 1.41511734e+00, 1.42508294e+00,\n",
              "        1.43504854e+00, 1.44501414e+00, 1.45497974e+00, 1.46494534e+00,\n",
              "        1.47491094e+00, 1.48487654e+00, 1.49484214e+00, 1.50480774e+00,\n",
              "        1.51477334e+00, 1.52473894e+00, 1.53470454e+00, 1.54467014e+00,\n",
              "        1.55463574e+00, 1.56460134e+00, 1.57456694e+00, 1.58453254e+00,\n",
              "        1.59449814e+00, 1.60446374e+00, 1.61442935e+00, 1.62439495e+00,\n",
              "        1.63436055e+00, 1.64432615e+00, 1.65429175e+00, 1.66425735e+00,\n",
              "        1.67422295e+00, 1.68418855e+00, 1.69415415e+00, 1.70411975e+00,\n",
              "        1.71408535e+00, 1.72405095e+00, 1.73401655e+00, 1.74398215e+00,\n",
              "        1.75394775e+00, 1.76391335e+00, 1.77387895e+00, 1.78384455e+00,\n",
              "        1.79381015e+00, 1.80377575e+00, 1.81374135e+00, 1.82370695e+00,\n",
              "        1.83367255e+00, 1.84363815e+00, 1.85360375e+00, 1.86356936e+00,\n",
              "        1.87353496e+00, 1.88350056e+00, 1.89346616e+00, 1.90343176e+00,\n",
              "        1.91339736e+00, 1.92336296e+00, 1.93332856e+00, 1.94329416e+00,\n",
              "        1.95325976e+00, 1.96322536e+00, 1.97319096e+00, 1.98315656e+00,\n",
              "        1.99312216e+00]),\n",
              " <BarContainer object of 200 artists>)"
            ]
          },
          "metadata": {},
          "execution_count": 5
        },
        {
          "output_type": "display_data",
          "data": {
            "text/plain": [
              "<Figure size 640x480 with 1 Axes>"
            ],
            "image/png": "[encoded data removed]"
          },
          "metadata": {}
        }
      ]
    }
  ]
}