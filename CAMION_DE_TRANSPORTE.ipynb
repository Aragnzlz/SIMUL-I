{
  "nbformat": 4,
  "nbformat_minor": 0,
  "metadata": {
    "colab": {
      "provenance": [],
      "include_colab_link": true
    },
    "kernelspec": {
      "name": "python3",
      "display_name": "Python 3"
    },
    "language_info": {
      "name": "python"
    }
  },
  "cells": [
    {
      "cell_type": "markdown",
      "metadata": {
        "id": "view-in-github",
        "colab_type": "text"
      },
      "source": [
        "<a href=\"https://colab.research.google.com/github/Aragnzlz/SIMULACION-I/blob/main/CAMION_DE_TRANSPORTE.ipynb\" target=\"_parent\"><img src=\"https://colab.research.google.com/assets/colab-badge.svg\" alt=\"Open In Colab\"/></a>"
      ]
    },
    {
      "cell_type": "markdown",
      "source": [
        "     E   J   E   R   C   I   C   I   O       1\n",
        "\n",
        "Dada la grafica nos damos cuenta que tenemos una distribución triangular con\n",
        "\n",
        "$$a= 190 , b=230, c=210$$\n",
        "\n",
        "De nuestro formulario, tenemos la siguiente función de densidad\n",
        "$$\n",
        "f(x) =\n",
        "\\begin{cases}\n",
        "    0 & \\text{si} x < a \\\\\n",
        "    \\frac{2(x-a)}{(b-a)(c-a)} & \\text{si} \\ a \\leq x \\leq c  \\\\\n",
        "    \\frac{2(b-a)}{(b-a)(b-c)} & \\text{si} \\ c \\leq x \\leq b \\\\\n",
        "    0 \\text{si} \\ b < x\n",
        "\\end{cases}\n",
        "$$\n",
        "\n",
        "Sustituyendo los datos anteriores\n",
        "$$\n",
        "f(x) =\n",
        "\\begin{array}{ll}\n",
        "\\left\\{\n",
        "\\begin{array}{ll}\n",
        "    0 & \\text{si } x < 190, \\\\\n",
        "    \\frac{2(x-190)}{800} & \\text{si } 190 \\leq x \\leq 210, \\\\\n",
        "    \\frac{2(230 - x)}{800} & \\text{si } 210 < x \\leq 230, \\\\\n",
        "    0 & \\text{si } x > 230\n",
        "\\end{array}\n",
        "\\right.\n",
        "\\end{array}\n",
        "$$\n",
        "\n",
        "Dado que buscamos la probabilidad de que ee que el peso de las tinas exceda la capacidad del camión, podemos expresar esta como:\n",
        "\n",
        "$$ P (\\sum_{i=1}^{5} x_i > 1000 )$$\n",
        "\n",
        "\n",
        "El teorema del limite central que nos dice que cuando la población muestrada es aproximadamente simetrica, la distribución muestral de $\\bar{x}$ se  proxima a una distribución normal para valores relativamente pequeños de $n$ , en este caso para $n=5$, con media $\\mu$ y desviasión estándar $\\frac{\\theta}{\\sqrt{n}}$\n",
        "\n",
        "La media par auna distribución triangular se define como\n",
        "\n",
        "$$ \\mu =  \\frac{a+b+c}{3} = \\frac{190+230+210}{3} = 210$$\n",
        "\n",
        "Y la varianza\n",
        "\n",
        "$$ \\sigma^2 =  \\frac{a^2+b^2+c^2-ab-ac-bc}{18} $$ $$ = \\frac{(190)^2+(230)^2+(210)^2-(190)(230)-(190)(210)-(230)(210)}{18} $$ $$= \\frac{200}{3} \\approx{66.7} $$\n",
        "\n",
        "Sustituyendo en el teorema de limite central obtenemos que\n",
        "\n",
        "\\begin{align*}\n",
        "P\\left( \\bar{x} > 200 \\right) &= P\\left( \\bar{x} - \\mu > 200 \\right) \\\\\n",
        "&= P\\left( \\frac{\\bar{x} - \\mu}{\\sigma}\\sqrt{n} > 200 \\right) \\\\\n",
        "&= P\\left( \\frac{\\bar{x} - \\mu}{\\sigma} \\sqrt{n}  > \\frac{\\bar{x} - \\mu}{\\sigma}\\sqrt{n} \\right) \\\\\n",
        "&= P\\left( Z > \\frac{\\bar{x} - \\mu}{\\sigma}\\sqrt{5} \\right)\n",
        "\\end{align*}\n",
        "\n",
        "\\begin{align*}\n",
        "P\\left( Z > \\frac{\\bar{x} - \\mu}{\\sigma}\\sqrt{5} \\right) &= P\\left( Z > \\frac{200 - 210}{\\sqrt{66.7}}\\sqrt{5} \\right) \\\\\n",
        "&= P(Z > -2.73) \\\\\n",
        "&= 1 - P(Z < -2.73) \\\\\n",
        "&= 1 - 0.0031 \\\\\n",
        "&= 0.9969\n",
        "\\end{align*}\n",
        "\n",
        "Para la funcion acumulada tebemos lo siguiente\n",
        "\n",
        "$$\n",
        "F(x) =\n",
        "\\begin{array}{ll}\n",
        "\\left\\{\n",
        "\\begin{array}{ll}\n",
        "    0 & \\text{si } x \\leq 190, \\\\\n",
        "  \\frac{(x-190)^2}{800} & \\text{si } 190 \\leq x \\leq 210, \\\\\n",
        "    1- \\frac{(230-x)^2}{800} & \\text{si } 210 < x \\leq 230, \\\\\n",
        "    1 & \\text{si } 230 \\leq x\n",
        "\\end{array}\n",
        "\\right.\n",
        "\\end{array}\n",
        "$$\n",
        "\n",
        "Buscamos la función inversa de cada una de las partes de la Función de distribución acumulada\n",
        "\n",
        "Caso 1:\n",
        "\n",
        "$$ \\frac{(x-190)^2}{800} = u $$\n",
        "$$ ⟹  (x-190)^2 = 800u $$\n",
        "$$ ⟹  x = \\sqrt{800u} + 190 $$\n",
        "\n",
        "Caso 2:\n",
        "\n",
        "$$1- \\frac{(230-x)^2}{800} = u$$\n",
        "$$ ⟹ - \\frac{(230-x)^2}{800} = u-1$$\n",
        "$$ ⟹ (-230+x)^2 = 800(u-1) $$\n",
        "$$ ⟹ x= -\\sqrt{800(1-u)}+230 $$\n",
        "\n",
        "* Asi nuestra inversa es:\n",
        "$$\n",
        "F(x)^{-1} =\n",
        "\\begin{array}{ll}\n",
        "\\left\\{\n",
        "\\begin{array}{ll}\n",
        "    \\sqrt{800u} + 190 & \\text{si } 0 \\leq x \\leq 0.5, \\\\\n",
        "    -\\sqrt{800(1-u)}+230 & \\text{si } 0.5 < x \\leq 1, \\\\\n",
        "\\end{array}\n",
        "\\right.\n",
        "\\end{array}\n",
        "$$"
      ],
      "metadata": {
        "id": "E-OqeY5PMc7M"
      }
    },
    {
      "cell_type": "markdown",
      "source": [
        "* Vamos a codificar nuestra distribución, para ello ingresamos nuestras librerias"
      ],
      "metadata": {
        "id": "ZARNlCq5cOWH"
      }
    },
    {
      "cell_type": "code",
      "execution_count": 2,
      "metadata": {
        "id": "TqlH3NCLAT18"
      },
      "outputs": [],
      "source": [
        "import random as rnd\n",
        "import numpy as np\n",
        "import matplotlib.pyplot as plt\n",
        "import math"
      ]
    },
    {
      "cell_type": "markdown",
      "source": [
        "P S E U D O C O D I G O\n",
        "\n",
        "1. Generar un número uniforme $u$\n",
        "2. Si $u < 0.5$  entonces $$x = \\sqrt{800u} + 190 $$\n",
        "   si no $$ x = -\\sqrt{800(1-u)}+230$$\n",
        "3. Salir x\n"
      ],
      "metadata": {
        "id": "FBf8rVAZcjKA"
      }
    },
    {
      "cell_type": "code",
      "source": [
        "def muestra(n):\n",
        "  Lista = []\n",
        "  for i in range(n):\n",
        "    #Generamos una uniforme\n",
        "    u = rnd.random() #Genera números aleatorios entre 0 y 1\n",
        "    if 0 < u < 1/2:\n",
        "       x = math.sqrt(800*u) + 190\n",
        "    else:\n",
        "       x = 230 - math.sqrt(800*(1-u))\n",
        "    Lista.append(x)#Agregamos los elementos a una lista\n",
        "  return Lista\n"
      ],
      "metadata": {
        "id": "LEvnvt3cJcKw"
      },
      "execution_count": 3,
      "outputs": []
    },
    {
      "cell_type": "markdown",
      "source": [
        "* Realizamos la prueba tantas veces que queramos"
      ],
      "metadata": {
        "id": "OH2WJZnbewfF"
      }
    },
    {
      "cell_type": "code",
      "source": [
        "G=muestra(1000000)"
      ],
      "metadata": {
        "id": "9hcCBuPRsaV0"
      },
      "execution_count": 4,
      "outputs": []
    },
    {
      "cell_type": "markdown",
      "source": [
        "* Graficamos los resultados."
      ],
      "metadata": {
        "id": "6HLeUwi1fCBd"
      }
    },
    {
      "cell_type": "code",
      "source": [
        "plt.hist(G, bins=200, color='lightblue')"
      ],
      "metadata": {
        "colab": {
          "base_uri": "https://localhost:8080/",
          "height": 1000
        },
        "id": "-dVRMS5us7mj",
        "outputId": "078e9753-2494-4238-bbef-be911705b9fa"
      },
      "execution_count": 5,
      "outputs": [
        {
          "output_type": "execute_result",
          "data": {
            "text/plain": [
              "(array([   49.,   163.,   262.,   343.,   423.,   534.,   654.,   724.,\n",
              "          799.,   988.,  1090.,  1169.,  1228.,  1274.,  1500.,  1517.,\n",
              "         1673.,  1750.,  1837.,  2032.,  2099.,  2174.,  2218.,  2381.,\n",
              "         2439.,  2582.,  2588.,  2866.,  2827.,  2897.,  3023.,  3155.,\n",
              "         3169.,  3389.,  3502.,  3582.,  3579.,  3775.,  3812.,  4002.,\n",
              "         4068.,  4194.,  4388.,  4379.,  4459.,  4576.,  4709.,  4795.,\n",
              "         4774.,  4930.,  5004.,  5090.,  5194.,  5493.,  5432.,  5450.,\n",
              "         5787.,  5705.,  5762.,  5937.,  6035.,  6239.,  6284.,  6384.,\n",
              "         6406.,  6619.,  6639.,  6780.,  6836.,  6869.,  7022.,  7151.,\n",
              "         7271.,  7375.,  7473.,  7558.,  7655.,  7816.,  7892.,  7918.,\n",
              "         7996.,  8084.,  8234.,  8505.,  8462.,  8550.,  8657.,  8748.,\n",
              "         8972.,  8796.,  9032.,  9195.,  9157.,  9168.,  9551.,  9585.,\n",
              "         9600.,  9713.,  9745., 10041.,  9900.,  9882.,  9789.,  9685.,\n",
              "         9447.,  9520.,  9446.,  9131.,  9112.,  9058.,  8933.,  8954.,\n",
              "         8685.,  8620.,  8526.,  8402.,  8343.,  8255.,  8276.,  8019.,\n",
              "         7945.,  7895.,  7889.,  7665.,  7618.,  7271.,  7346.,  7195.,\n",
              "         6983.,  7131.,  6894.,  6865.,  6758.,  6711.,  6538.,  6345.,\n",
              "         6320.,  6276.,  6142.,  5943.,  6039.,  5820.,  5647.,  5765.,\n",
              "         5579.,  5680.,  5242.,  5231.,  5057.,  5135.,  4927.,  4844.,\n",
              "         4726.,  4590.,  4534.,  4557.,  4245.,  4206.,  4098.,  4007.,\n",
              "         3959.,  3898.,  3616.,  3649.,  3541.,  3493.,  3327.,  3309.,\n",
              "         3142.,  3073.,  2969.,  2758.,  2807.,  2640.,  2520.,  2435.,\n",
              "         2261.,  2329.,  2123.,  2126.,  1962.,  1820.,  1694.,  1623.,\n",
              "         1607.,  1446.,  1403.,  1277.,  1170.,  1073.,   957.,   905.,\n",
              "          773.,   609.,   560.,   475.,   334.,   266.,   169.,    53.]),\n",
              " array([190.00242045, 190.20233236, 190.40224427, 190.60215618,\n",
              "        190.80206809, 191.00198   , 191.20189191, 191.40180382,\n",
              "        191.60171573, 191.80162764, 192.00153955, 192.20145146,\n",
              "        192.40136337, 192.60127528, 192.80118719, 193.0010991 ,\n",
              "        193.20101101, 193.40092291, 193.60083482, 193.80074673,\n",
              "        194.00065864, 194.20057055, 194.40048246, 194.60039437,\n",
              "        194.80030628, 195.00021819, 195.2001301 , 195.40004201,\n",
              "        195.59995392, 195.79986583, 195.99977774, 196.19968965,\n",
              "        196.39960156, 196.59951347, 196.79942538, 196.99933729,\n",
              "        197.1992492 , 197.39916111, 197.59907302, 197.79898493,\n",
              "        197.99889684, 198.19880875, 198.39872066, 198.59863257,\n",
              "        198.79854448, 198.99845639, 199.1983683 , 199.39828021,\n",
              "        199.59819212, 199.79810403, 199.99801593, 200.19792784,\n",
              "        200.39783975, 200.59775166, 200.79766357, 200.99757548,\n",
              "        201.19748739, 201.3973993 , 201.59731121, 201.79722312,\n",
              "        201.99713503, 202.19704694, 202.39695885, 202.59687076,\n",
              "        202.79678267, 202.99669458, 203.19660649, 203.3965184 ,\n",
              "        203.59643031, 203.79634222, 203.99625413, 204.19616604,\n",
              "        204.39607795, 204.59598986, 204.79590177, 204.99581368,\n",
              "        205.19572559, 205.3956375 , 205.59554941, 205.79546132,\n",
              "        205.99537323, 206.19528514, 206.39519705, 206.59510896,\n",
              "        206.79502086, 206.99493277, 207.19484468, 207.39475659,\n",
              "        207.5946685 , 207.79458041, 207.99449232, 208.19440423,\n",
              "        208.39431614, 208.59422805, 208.79413996, 208.99405187,\n",
              "        209.19396378, 209.39387569, 209.5937876 , 209.79369951,\n",
              "        209.99361142, 210.19352333, 210.39343524, 210.59334715,\n",
              "        210.79325906, 210.99317097, 211.19308288, 211.39299479,\n",
              "        211.5929067 , 211.79281861, 211.99273052, 212.19264243,\n",
              "        212.39255434, 212.59246625, 212.79237816, 212.99229007,\n",
              "        213.19220198, 213.39211388, 213.59202579, 213.7919377 ,\n",
              "        213.99184961, 214.19176152, 214.39167343, 214.59158534,\n",
              "        214.79149725, 214.99140916, 215.19132107, 215.39123298,\n",
              "        215.59114489, 215.7910568 , 215.99096871, 216.19088062,\n",
              "        216.39079253, 216.59070444, 216.79061635, 216.99052826,\n",
              "        217.19044017, 217.39035208, 217.59026399, 217.7901759 ,\n",
              "        217.99008781, 218.18999972, 218.38991163, 218.58982354,\n",
              "        218.78973545, 218.98964736, 219.18955927, 219.38947118,\n",
              "        219.58938309, 219.789295  , 219.98920691, 220.18911881,\n",
              "        220.38903072, 220.58894263, 220.78885454, 220.98876645,\n",
              "        221.18867836, 221.38859027, 221.58850218, 221.78841409,\n",
              "        221.988326  , 222.18823791, 222.38814982, 222.58806173,\n",
              "        222.78797364, 222.98788555, 223.18779746, 223.38770937,\n",
              "        223.58762128, 223.78753319, 223.9874451 , 224.18735701,\n",
              "        224.38726892, 224.58718083, 224.78709274, 224.98700465,\n",
              "        225.18691656, 225.38682847, 225.58674038, 225.78665229,\n",
              "        225.9865642 , 226.18647611, 226.38638802, 226.58629993,\n",
              "        226.78621183, 226.98612374, 227.18603565, 227.38594756,\n",
              "        227.58585947, 227.78577138, 227.98568329, 228.1855952 ,\n",
              "        228.38550711, 228.58541902, 228.78533093, 228.98524284,\n",
              "        229.18515475, 229.38506666, 229.58497857, 229.78489048,\n",
              "        229.98480239]),\n",
              " <BarContainer object of 200 artists>)"
            ]
          },
          "metadata": {},
          "execution_count": 5
        },
        {
          "output_type": "display_data",
          "data": {
            "text/plain": [
              "<Figure size 640x480 with 1 Axes>"
            ],
            "image/png": "[encoded data removed]"
          },
          "metadata": {}
        }
      ]
    },
    {
      "cell_type": "markdown",
      "source": [
        "Para ña simulación de las probabilidades"
      ],
      "metadata": {
        "id": "Fboynj8NVn4u"
      }
    },
    {
      "cell_type": "markdown",
      "source": [
        "Veamos que $$x_i \\sim Tri(a,b,c) : peso$$\n",
        "\n",
        "Donde $$ \\sum_{i=1}^{5} x_i > 1000 $$\n"
      ],
      "metadata": {
        "id": "wdD9CTiKYw6S"
      }
    },
    {
      "cell_type": "code",
      "source": [
        "lista = []\n",
        "cont = 0\n",
        "N = 1000000\n",
        "prob = []\n",
        "for i in range (N):\n",
        "   if sum(muestra(5)) > 1000:\n",
        "       cont = cont + 1\n",
        "   prob.append(cont/(i+1))\n",
        "p = cont/N\n",
        "print(p)\n"
      ],
      "metadata": {
        "colab": {
          "base_uri": "https://localhost:8080/"
        },
        "id": "WCsf8Ka3Vl2T",
        "outputId": "6cac1b84-0c78-43c3-bb23-7ceeb3d96f96"
      },
      "execution_count": 6,
      "outputs": [
        {
          "output_type": "stream",
          "name": "stdout",
          "text": [
            "0.997619\n"
          ]
        }
      ]
    },
    {
      "cell_type": "markdown",
      "source": [
        "* Vemos el comportamiento de nuestra probabilidad en la siguiente grafica"
      ],
      "metadata": {
        "id": "4T2eTBA35ljh"
      }
    },
    {
      "cell_type": "code",
      "source": [
        "plt.plot(prob)"
      ],
      "metadata": {
        "colab": {
          "base_uri": "https://localhost:8080/",
          "height": 466
        },
        "id": "pa_DFIQi5k7e",
        "outputId": "8c9d35f1-239f-407b-d764-63c01a0af1b2"
      },
      "execution_count": 7,
      "outputs": [
        {
          "output_type": "execute_result",
          "data": {
            "text/plain": [
              "[<matplotlib.lines.Line2D at 0x7e5183e3e110>]"
            ]
          },
          "metadata": {},
          "execution_count": 7
        },
        {
          "output_type": "display_data",
          "data": {
            "text/plain": [
              "<Figure size 640x480 with 1 Axes>"
            ],
            "image/png": "[encoded data removed]"
          },
          "metadata": {}
        }
      ]
    },
    {
      "cell_type": "markdown",
      "source": [
        "       E   J   E   R   C   I   C   I   O    2\n",
        "\n",
        "1. En este caso, tomando las siguientes condiciones, calcularemos el costo esperado de enviar la mercancia:\n",
        "\n",
        " * Cada vez que la capacidad del camión es excedida una tina es enviada a través de otra compañía a un costo de $200.\n",
        "\n",
        " * El costo promedio anual de un nuevo camión es de $60,000.\n",
        "\n",
        " * Se trabajan 5 días a la semana y 52 semanas al año.\n",
        "\n",
        " * La la probabilidad de que el peso de las tinas exceda la capacidad del camión es de 0.9969\n",
        "\n",
        " * La capacidad del camión es de una tonelada.\n",
        "\n",
        "Con lo anterior , tenemos que\n",
        "\n",
        "$$ (5 \\text{ / dias})*(52 \\text{ / semanas}) = 260 \\text{ /dias}$$\n",
        "\n",
        "por lo que\n",
        "\n",
        "$$ 260 \\text{ dias} \\rightarrow  100\\% $$\n",
        "$$ x → 99.7 \\% $$\n",
        "$$  \\therefore x = 259 \\text{ / dias al año} $$\n",
        "\n",
        "por lo tanto el costo sera\n",
        "$$ \\text{ Costo } = 259 * $200= 51 800$$\n",
        "\n",
        "Por lo que es mas conveniente es enviar las tinas sobrantes con la otra compañia."
      ],
      "metadata": {
        "id": "9KqsbUWYlQIf"
      }
    },
    {
      "cell_type": "markdown",
      "source": [
        "  En este caso, dado que N es nuestro numero de veces que realizamos un experimento y obtenemos que se trabajan 259 dias al año, utilizaremos este N para aproximar al costo promedio."
      ],
      "metadata": {
        "id": "sH9sPnal_BmC"
      }
    },
    {
      "cell_type": "code",
      "source": [
        "lista = []\n",
        "cont = 0\n",
        "costo = 0\n",
        "cost = []\n",
        "N = 260 # Numero de dias al año\n",
        "prob = []\n",
        "for i in range (N):\n",
        "   if sum(muestra(5)) > 1000:\n",
        "       costo = costo + 200\n",
        "   cost.append(costo)\n",
        "print(cost)"
      ],
      "metadata": {
        "colab": {
          "base_uri": "https://localhost:8080/"
        },
        "id": "ofvtz1za4t9b",
        "outputId": "d779ae7b-fbee-4f37-950d-3fa14f7fb100"
      },
      "execution_count": 8,
      "outputs": [
        {
          "output_type": "stream",
          "name": "stdout",
          "text": [
            "[200, 400, 600, 800, 1000, 1200, 1400, 1600, 1800, 2000, 2200, 2400, 2600, 2800, 3000, 3200, 3400, 3600, 3800, 4000, 4200, 4400, 4600, 4800, 5000, 5200, 5400, 5600, 5800, 6000, 6200, 6400, 6600, 6800, 7000, 7200, 7400, 7600, 7800, 8000, 8200, 8400, 8600, 8800, 9000, 9200, 9400, 9600, 9800, 10000, 10200, 10400, 10600, 10800, 11000, 11200, 11400, 11600, 11800, 12000, 12200, 12400, 12600, 12800, 13000, 13200, 13400, 13600, 13800, 14000, 14200, 14400, 14600, 14800, 15000, 15200, 15400, 15600, 15800, 16000, 16200, 16400, 16600, 16800, 17000, 17200, 17400, 17600, 17800, 18000, 18200, 18400, 18600, 18800, 19000, 19200, 19400, 19600, 19800, 20000, 20200, 20400, 20600, 20800, 21000, 21200, 21400, 21600, 21800, 22000, 22200, 22400, 22600, 22800, 23000, 23200, 23400, 23600, 23800, 24000, 24200, 24400, 24600, 24800, 25000, 25200, 25400, 25600, 25800, 26000, 26200, 26400, 26600, 26800, 27000, 27200, 27400, 27600, 27800, 28000, 28200, 28400, 28600, 28800, 29000, 29200, 29400, 29600, 29800, 30000, 30200, 30400, 30600, 30800, 31000, 31200, 31400, 31600, 31800, 32000, 32200, 32400, 32600, 32800, 33000, 33200, 33400, 33600, 33800, 34000, 34200, 34400, 34600, 34800, 35000, 35200, 35400, 35600, 35800, 36000, 36200, 36400, 36600, 36800, 37000, 37200, 37400, 37600, 37800, 38000, 38200, 38400, 38600, 38800, 39000, 39200, 39400, 39600, 39800, 40000, 40200, 40400, 40600, 40800, 41000, 41200, 41400, 41600, 41800, 42000, 42200, 42400, 42600, 42800, 43000, 43200, 43400, 43600, 43800, 44000, 44200, 44400, 44600, 44800, 45000, 45200, 45400, 45600, 45800, 46000, 46200, 46400, 46600, 46800, 47000, 47200, 47400, 47600, 47800, 48000, 48200, 48400, 48600, 48800, 49000, 49200, 49400, 49600, 49800, 50000, 50200, 50400, 50600, 50800, 51000, 51200, 51400, 51600, 51800, 52000]\n"
          ]
        }
      ]
    },
    {
      "cell_type": "code",
      "source": [
        "plt.plot(cost)\n",
        "plt.axhline(60000,color=\"red\")"
      ],
      "metadata": {
        "colab": {
          "base_uri": "https://localhost:8080/",
          "height": 448
        },
        "id": "jmqNrk42z30F",
        "outputId": "0284c224-396b-43f3-9451-e52ff021889a"
      },
      "execution_count": 9,
      "outputs": [
        {
          "output_type": "execute_result",
          "data": {
            "text/plain": [
              "<matplotlib.lines.Line2D at 0x7e5185d04b80>"
            ]
          },
          "metadata": {},
          "execution_count": 9
        },
        {
          "output_type": "display_data",
          "data": {
            "text/plain": [
              "<Figure size 640x480 with 1 Axes>"
            ],
            "image/png": "[encoded data removed]"
          },
          "metadata": {}
        }
      ]
    },
    {
      "cell_type": "markdown",
      "source": [
        "Asi el costo anual tiende a 51800, el cual es menor al costo promedio anual de la segunda alternativa."
      ],
      "metadata": {
        "id": "TJav8Sah07uj"
      }
    },
    {
      "cell_type": "markdown",
      "source": [
        "Por lo que es más atractivo que a que cada vez que la capacidad del camión es excedida una tina es enviada a través de otra compañía a un costo de $200."
      ],
      "metadata": {
        "id": "808yxIVi_g8V"
      }
    },
    {
      "cell_type": "code",
      "source": [
        "from google.colab import drive\n",
        "drive.mount('/content/drive')"
      ],
      "metadata": {
        "colab": {
          "base_uri": "https://localhost:8080/"
        },
        "id": "NKqqHpNo_8Ah",
        "outputId": "76a19354-c09d-4546-e2b3-d72b1ec68bea"
      },
      "execution_count": 10,
      "outputs": [
        {
          "output_type": "stream",
          "name": "stdout",
          "text": [
            "Mounted at /content/drive\n"
          ]
        }
      ]
    }
  ]
}