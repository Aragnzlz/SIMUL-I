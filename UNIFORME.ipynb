{
  "nbformat": 4,
  "nbformat_minor": 0,
  "metadata": {
    "colab": {
      "provenance": [],
      "authorship_tag": "ABX9TyNMzDqVjct8pXF+reUkwwfO",
      "include_colab_link": true
    },
    "kernelspec": {
      "name": "python3",
      "display_name": "Python 3"
    },
    "language_info": {
      "name": "python"
    }
  },
  "cells": [
    {
      "cell_type": "markdown",
      "metadata": {
        "id": "view-in-github",
        "colab_type": "text"
      },
      "source": [
        "<a href=\"https://colab.research.google.com/github/Aragnzlz/SIMULACION-I/blob/main/UNIFORME.ipynb\" target=\"_parent\"><img src=\"https://colab.research.google.com/assets/colab-badge.svg\" alt=\"Open In Colab\"/></a>"
      ]
    },
    {
      "cell_type": "code",
      "execution_count": null,
      "metadata": {
        "id": "4xnF_POHGoyn"
      },
      "outputs": [],
      "source": [
        "import random as rnd\n",
        "import numpy as np #Esta libreria incluye algunas funciones matematicas. No necesitamos math\n",
        "import matplotlib.pyplot as plt"
      ]
    },
    {
      "cell_type": "code",
      "source": [
        "def uniforme(b,a,n):\n",
        "  Lista = []\n",
        "  for i in range(n):\n",
        "    #Generamos una uniforme\n",
        "    u = rnd.random() #Genera números aleatorios entre 0 y 1\n",
        "    x = u*(b-a)+a\n",
        "    Lista.append(x)#Agregamos los elementos a una lista\n",
        "  return Lista"
      ],
      "metadata": {
        "id": "qJgRYs35GqwZ"
      },
      "execution_count": null,
      "outputs": []
    },
    {
      "cell_type": "code",
      "source": [
        "G = uniforme(15,10,100000)"
      ],
      "metadata": {
        "id": "44_YfW4nHoHC"
      },
      "execution_count": null,
      "outputs": []
    },
    {
      "cell_type": "code",
      "source": [
        "mu = np.mean(G)\n",
        "print(mu)\n",
        "sigma = np.var(G)\n",
        "print(sigma)"
      ],
      "metadata": {
        "colab": {
          "base_uri": "https://localhost:8080/"
        },
        "id": "fwDwjQ-9JMdU",
        "outputId": "9b8a0fba-a0fa-4f5d-91a5-83ca6ebd3d92"
      },
      "execution_count": null,
      "outputs": [
        {
          "output_type": "stream",
          "name": "stdout",
          "text": [
            "12.506748175726575\n",
            "2.0811923371170007\n"
          ]
        }
      ]
    },
    {
      "cell_type": "code",
      "source": [
        "plt.hist(G,bins = 200, color = \"lightblue\")"
      ],
      "metadata": {
        "colab": {
          "base_uri": "https://localhost:8080/",
          "height": 1000
        },
        "id": "OgahzT-6JRNQ",
        "outputId": "3ff918e4-915a-4265-e003-b1a72abd7277"
      },
      "execution_count": null,
      "outputs": [
        {
          "output_type": "execute_result",
          "data": {
            "text/plain": [
              "(array([504., 488., 495., 502., 515., 509., 489., 479., 487., 462., 497.,\n",
              "        493., 459., 513., 505., 496., 476., 484., 465., 499., 484., 497.,\n",
              "        506., 495., 456., 500., 482., 492., 496., 486., 531., 530., 527.,\n",
              "        525., 508., 514., 493., 475., 514., 518., 517., 504., 471., 483.,\n",
              "        460., 520., 514., 466., 463., 497., 527., 507., 505., 484., 519.,\n",
              "        508., 502., 537., 535., 522., 510., 517., 436., 481., 526., 461.,\n",
              "        461., 482., 547., 495., 500., 516., 511., 528., 547., 521., 495.,\n",
              "        481., 484., 506., 500., 505., 488., 512., 481., 536., 489., 464.,\n",
              "        466., 499., 488., 491., 528., 496., 505., 500., 498., 517., 524.,\n",
              "        509., 506., 502., 520., 509., 487., 508., 450., 464., 508., 480.,\n",
              "        530., 516., 512., 494., 497., 478., 523., 472., 494., 526., 508.,\n",
              "        478., 520., 503., 487., 505., 482., 472., 518., 538., 483., 497.,\n",
              "        510., 511., 506., 503., 500., 500., 514., 483., 514., 545., 490.,\n",
              "        512., 514., 494., 510., 454., 508., 485., 480., 431., 513., 478.,\n",
              "        488., 529., 507., 480., 493., 538., 560., 512., 507., 498., 506.,\n",
              "        467., 528., 437., 492., 453., 482., 499., 539., 504., 502., 521.,\n",
              "        544., 516., 533., 490., 502., 477., 497., 519., 454., 502., 493.,\n",
              "        483., 468., 506., 511., 549., 512., 500., 553., 508., 517., 475.,\n",
              "        481., 558.]),\n",
              " array([10.00000769, 10.02500731, 10.05000692, 10.07500653, 10.10000614,\n",
              "        10.12500575, 10.15000536, 10.17500498, 10.20000459, 10.2250042 ,\n",
              "        10.25000381, 10.27500342, 10.30000303, 10.32500265, 10.35000226,\n",
              "        10.37500187, 10.40000148, 10.42500109, 10.4500007 , 10.47500032,\n",
              "        10.49999993, 10.52499954, 10.54999915, 10.57499876, 10.59999837,\n",
              "        10.62499799, 10.6499976 , 10.67499721, 10.69999682, 10.72499643,\n",
              "        10.74999604, 10.77499566, 10.79999527, 10.82499488, 10.84999449,\n",
              "        10.8749941 , 10.89999371, 10.92499333, 10.94999294, 10.97499255,\n",
              "        10.99999216, 11.02499177, 11.04999138, 11.074991  , 11.09999061,\n",
              "        11.12499022, 11.14998983, 11.17498944, 11.19998905, 11.22498867,\n",
              "        11.24998828, 11.27498789, 11.2999875 , 11.32498711, 11.34998672,\n",
              "        11.37498633, 11.39998595, 11.42498556, 11.44998517, 11.47498478,\n",
              "        11.49998439, 11.524984  , 11.54998362, 11.57498323, 11.59998284,\n",
              "        11.62498245, 11.64998206, 11.67498167, 11.69998129, 11.7249809 ,\n",
              "        11.74998051, 11.77498012, 11.79997973, 11.82497934, 11.84997896,\n",
              "        11.87497857, 11.89997818, 11.92497779, 11.9499774 , 11.97497701,\n",
              "        11.99997663, 12.02497624, 12.04997585, 12.07497546, 12.09997507,\n",
              "        12.12497468, 12.1499743 , 12.17497391, 12.19997352, 12.22497313,\n",
              "        12.24997274, 12.27497235, 12.29997197, 12.32497158, 12.34997119,\n",
              "        12.3749708 , 12.39997041, 12.42497002, 12.44996964, 12.47496925,\n",
              "        12.49996886, 12.52496847, 12.54996808, 12.57496769, 12.59996731,\n",
              "        12.62496692, 12.64996653, 12.67496614, 12.69996575, 12.72496536,\n",
              "        12.74996498, 12.77496459, 12.7999642 , 12.82496381, 12.84996342,\n",
              "        12.87496303, 12.89996265, 12.92496226, 12.94996187, 12.97496148,\n",
              "        12.99996109, 13.0249607 , 13.04996032, 13.07495993, 13.09995954,\n",
              "        13.12495915, 13.14995876, 13.17495837, 13.19995798, 13.2249576 ,\n",
              "        13.24995721, 13.27495682, 13.29995643, 13.32495604, 13.34995565,\n",
              "        13.37495527, 13.39995488, 13.42495449, 13.4499541 , 13.47495371,\n",
              "        13.49995332, 13.52495294, 13.54995255, 13.57495216, 13.59995177,\n",
              "        13.62495138, 13.64995099, 13.67495061, 13.69995022, 13.72494983,\n",
              "        13.74994944, 13.77494905, 13.79994866, 13.82494828, 13.84994789,\n",
              "        13.8749475 , 13.89994711, 13.92494672, 13.94994633, 13.97494595,\n",
              "        13.99994556, 14.02494517, 14.04994478, 14.07494439, 14.099944  ,\n",
              "        14.12494362, 14.14994323, 14.17494284, 14.19994245, 14.22494206,\n",
              "        14.24994167, 14.27494129, 14.2999409 , 14.32494051, 14.34994012,\n",
              "        14.37493973, 14.39993934, 14.42493896, 14.44993857, 14.47493818,\n",
              "        14.49993779, 14.5249374 , 14.54993701, 14.57493663, 14.59993624,\n",
              "        14.62493585, 14.64993546, 14.67493507, 14.69993468, 14.7249343 ,\n",
              "        14.74993391, 14.77493352, 14.79993313, 14.82493274, 14.84993235,\n",
              "        14.87493196, 14.89993158, 14.92493119, 14.9499308 , 14.97493041,\n",
              "        14.99993002]),\n",
              " <BarContainer object of 200 artists>)"
            ]
          },
          "metadata": {},
          "execution_count": 28
        },
        {
          "output_type": "display_data",
          "data": {
            "text/plain": [
              "<Figure size 640x480 with 1 Axes>"
            ],
            "image/png": "[encoded data removed]"
          },
          "metadata": {}
        }
      ]
    },
    {
      "cell_type": "code",
      "source": [
        "plt.plot(G)"
      ],
      "metadata": {
        "colab": {
          "base_uri": "https://localhost:8080/",
          "height": 281
        },
        "id": "U97BZL6oJ2Y6",
        "outputId": "410ee3ed-fa78-4224-8054-5bdac043c80c"
      },
      "execution_count": null,
      "outputs": [
        {
          "output_type": "execute_result",
          "data": {
            "text/plain": [
              "[<matplotlib.lines.Line2D at 0x7b6f7d0788e0>]"
            ]
          },
          "metadata": {},
          "execution_count": 29
        },
        {
          "output_type": "display_data",
          "data": {
            "text/plain": [
              "<Figure size 640x480 with 1 Axes>"
            ],
            "image/png": "[encoded data removed]"
          },
          "metadata": {}
        }
      ]
    },
    {
      "cell_type": "markdown",
      "source": [
        "FUNCION ACUMULADA"
      ],
      "metadata": {
        "id": "CqEcBYCjKzQ2"
      }
    },
    {
      "cell_type": "code",
      "source": [
        "def cdf(muestra):\n",
        "   n = len(muestra)\n",
        "   x = np.sort(muestra)\n",
        "   y = np.arange(0,n)/n\n",
        "   return x,y"
      ],
      "metadata": {
        "id": "_N6EKM-dJ_3p"
      },
      "execution_count": null,
      "outputs": []
    },
    {
      "cell_type": "code",
      "source": [
        "x,y = cdf(G)"
      ],
      "metadata": {
        "id": "3ixSHE2zKOC_"
      },
      "execution_count": null,
      "outputs": []
    },
    {
      "cell_type": "code",
      "source": [
        "plt.step(x,y)\n",
        "plt.axhline(0.5, color=\"red\")\n",
        "plt.axvline(np.mean(G),color = \"green\")"
      ],
      "metadata": {
        "colab": {
          "base_uri": "https://localhost:8080/",
          "height": 281
        },
        "id": "jfYrLmW0KDCL",
        "outputId": "bc3f579d-3eb9-4d86-cbbc-07e20be41ca5"
      },
      "execution_count": null,
      "outputs": [
        {
          "output_type": "execute_result",
          "data": {
            "text/plain": [
              "<matplotlib.lines.Line2D at 0x7b6f7d296e90>"
            ]
          },
          "metadata": {},
          "execution_count": 36
        },
        {
          "output_type": "display_data",
          "data": {
            "text/plain": [
              "<Figure size 640x480 with 1 Axes>"
            ],
            "image/png": "[encoded data removed]"
          },
          "metadata": {}
        }
      ]
    }
  ]
}