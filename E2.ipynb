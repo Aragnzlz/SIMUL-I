{
  "nbformat": 4,
  "nbformat_minor": 0,
  "metadata": {
    "colab": {
      "provenance": [],
      "authorship_tag": "ABX9TyPIobRyIra9M7LXYP70lSWl",
      "include_colab_link": true
    },
    "kernelspec": {
      "name": "python3",
      "display_name": "Python 3"
    },
    "language_info": {
      "name": "python"
    }
  },
  "cells": [
    {
      "cell_type": "markdown",
      "metadata": {
        "id": "view-in-github",
        "colab_type": "text"
      },
      "source": [
        "<a href=\"https://colab.research.google.com/github/Aragnzlz/SIMULACION-I/blob/main/E2.ipynb\" target=\"_parent\"><img src=\"https://colab.research.google.com/assets/colab-badge.svg\" alt=\"Open In Colab\"/></a>"
      ]
    },
    {
      "cell_type": "code",
      "execution_count": null,
      "metadata": {
        "id": "sbAb0Y91LeR-"
      },
      "outputs": [],
      "source": [
        "import random as rnd\n",
        "import numpy as np #Esta libreria incluye algunas funciones matematicas. No necesitamos math\n",
        "import matplotlib.pyplot as plt\n",
        "import math"
      ]
    },
    {
      "cell_type": "code",
      "source": [
        "def cauchy(gamma, xo,n):\n",
        "  Lista = []\n",
        "  for i in range(n):\n",
        "    #Generamos una uniforme\n",
        "    u = rnd.random() #Genera números aleatorios entre 0 y 1\n",
        "    x = gamma*(math.tan(math.pi*(u-1/2))) + xo\n",
        "    Lista.append(x)#Agregamos los elementos a una lista\n",
        "  return Lista"
      ],
      "metadata": {
        "id": "qA7RXjdSNcv8"
      },
      "execution_count": null,
      "outputs": []
    },
    {
      "cell_type": "code",
      "source": [
        "G = cauchy(1,-2,100000)"
      ],
      "metadata": {
        "id": "bBC0akbfO3wo"
      },
      "execution_count": null,
      "outputs": []
    },
    {
      "cell_type": "code",
      "source": [
        "mu = np.mean(G)\n",
        "print(mu)\n",
        "sigma = np.var(G)\n",
        "print(sigma)"
      ],
      "metadata": {
        "colab": {
          "base_uri": "https://localhost:8080/"
        },
        "id": "6MGXQJiAO8fG",
        "outputId": "05f284fa-5eb9-4591-c1c1-69af3741fb46"
      },
      "execution_count": null,
      "outputs": [
        {
          "output_type": "stream",
          "name": "stdout",
          "text": [
            "-2.543480075334416\n",
            "26666.208015270004\n"
          ]
        }
      ]
    },
    {
      "cell_type": "code",
      "source": [
        "plt.hist(G,bins = 200, color = \"lightblue\")"
      ],
      "metadata": {
        "colab": {
          "base_uri": "https://localhost:8080/",
          "height": 1000
        },
        "id": "yxrynufIPBIN",
        "outputId": "f9e66529-e901-436e-c490-b63463ba1689"
      },
      "execution_count": null,
      "outputs": [
        {
          "output_type": "execute_result",
          "data": {
            "text/plain": [
              "(array([1.0000e+00, 0.0000e+00, 0.0000e+00, 0.0000e+00, 0.0000e+00,\n",
              "        0.0000e+00, 0.0000e+00, 0.0000e+00, 0.0000e+00, 0.0000e+00,\n",
              "        0.0000e+00, 0.0000e+00, 0.0000e+00, 0.0000e+00, 0.0000e+00,\n",
              "        0.0000e+00, 0.0000e+00, 0.0000e+00, 0.0000e+00, 0.0000e+00,\n",
              "        0.0000e+00, 0.0000e+00, 0.0000e+00, 0.0000e+00, 0.0000e+00,\n",
              "        0.0000e+00, 0.0000e+00, 0.0000e+00, 0.0000e+00, 0.0000e+00,\n",
              "        0.0000e+00, 0.0000e+00, 0.0000e+00, 0.0000e+00, 0.0000e+00,\n",
              "        0.0000e+00, 0.0000e+00, 0.0000e+00, 0.0000e+00, 0.0000e+00,\n",
              "        0.0000e+00, 0.0000e+00, 0.0000e+00, 0.0000e+00, 0.0000e+00,\n",
              "        0.0000e+00, 0.0000e+00, 0.0000e+00, 0.0000e+00, 0.0000e+00,\n",
              "        0.0000e+00, 0.0000e+00, 0.0000e+00, 0.0000e+00, 0.0000e+00,\n",
              "        0.0000e+00, 0.0000e+00, 0.0000e+00, 0.0000e+00, 0.0000e+00,\n",
              "        0.0000e+00, 0.0000e+00, 0.0000e+00, 0.0000e+00, 0.0000e+00,\n",
              "        0.0000e+00, 0.0000e+00, 0.0000e+00, 0.0000e+00, 0.0000e+00,\n",
              "        0.0000e+00, 0.0000e+00, 0.0000e+00, 0.0000e+00, 0.0000e+00,\n",
              "        0.0000e+00, 0.0000e+00, 0.0000e+00, 0.0000e+00, 0.0000e+00,\n",
              "        0.0000e+00, 0.0000e+00, 1.0000e+00, 0.0000e+00, 0.0000e+00,\n",
              "        0.0000e+00, 0.0000e+00, 0.0000e+00, 0.0000e+00, 0.0000e+00,\n",
              "        0.0000e+00, 1.0000e+00, 0.0000e+00, 0.0000e+00, 0.0000e+00,\n",
              "        0.0000e+00, 0.0000e+00, 1.0000e+00, 0.0000e+00, 1.0000e+00,\n",
              "        0.0000e+00, 0.0000e+00, 2.0000e+00, 0.0000e+00, 1.0000e+00,\n",
              "        0.0000e+00, 0.0000e+00, 0.0000e+00, 0.0000e+00, 1.0000e+00,\n",
              "        0.0000e+00, 1.0000e+00, 0.0000e+00, 0.0000e+00, 0.0000e+00,\n",
              "        0.0000e+00, 1.0000e+00, 2.0000e+00, 0.0000e+00, 1.0000e+00,\n",
              "        2.0000e+00, 1.0000e+00, 1.0000e+00, 2.0000e+00, 1.0000e+00,\n",
              "        1.0000e+00, 2.0000e+00, 3.0000e+00, 5.0000e+00, 1.0000e+01,\n",
              "        1.8000e+01, 5.8000e+01, 2.8940e+03, 9.6848e+04, 7.9000e+01,\n",
              "        1.6000e+01, 1.7000e+01, 6.0000e+00, 3.0000e+00, 3.0000e+00,\n",
              "        3.0000e+00, 4.0000e+00, 1.0000e+00, 2.0000e+00, 0.0000e+00,\n",
              "        0.0000e+00, 0.0000e+00, 1.0000e+00, 0.0000e+00, 0.0000e+00,\n",
              "        1.0000e+00, 0.0000e+00, 0.0000e+00, 0.0000e+00, 0.0000e+00,\n",
              "        0.0000e+00, 0.0000e+00, 0.0000e+00, 0.0000e+00, 0.0000e+00,\n",
              "        0.0000e+00, 0.0000e+00, 1.0000e+00, 0.0000e+00, 0.0000e+00,\n",
              "        0.0000e+00, 0.0000e+00, 0.0000e+00, 0.0000e+00, 0.0000e+00,\n",
              "        0.0000e+00, 0.0000e+00, 0.0000e+00, 0.0000e+00, 0.0000e+00,\n",
              "        0.0000e+00, 0.0000e+00, 0.0000e+00, 0.0000e+00, 1.0000e+00,\n",
              "        0.0000e+00, 0.0000e+00, 0.0000e+00, 0.0000e+00, 0.0000e+00,\n",
              "        1.0000e+00, 0.0000e+00, 0.0000e+00, 0.0000e+00, 0.0000e+00,\n",
              "        0.0000e+00, 0.0000e+00, 0.0000e+00, 0.0000e+00, 0.0000e+00,\n",
              "        0.0000e+00, 0.0000e+00, 0.0000e+00, 0.0000e+00, 1.0000e+00]),\n",
              " array([-3.31260086e+04, -3.28770367e+04, -3.26280648e+04, -3.23790930e+04,\n",
              "        -3.21301211e+04, -3.18811492e+04, -3.16321773e+04, -3.13832054e+04,\n",
              "        -3.11342336e+04, -3.08852617e+04, -3.06362898e+04, -3.03873179e+04,\n",
              "        -3.01383461e+04, -2.98893742e+04, -2.96404023e+04, -2.93914304e+04,\n",
              "        -2.91424585e+04, -2.88934867e+04, -2.86445148e+04, -2.83955429e+04,\n",
              "        -2.81465710e+04, -2.78975991e+04, -2.76486273e+04, -2.73996554e+04,\n",
              "        -2.71506835e+04, -2.69017116e+04, -2.66527398e+04, -2.64037679e+04,\n",
              "        -2.61547960e+04, -2.59058241e+04, -2.56568522e+04, -2.54078804e+04,\n",
              "        -2.51589085e+04, -2.49099366e+04, -2.46609647e+04, -2.44119928e+04,\n",
              "        -2.41630210e+04, -2.39140491e+04, -2.36650772e+04, -2.34161053e+04,\n",
              "        -2.31671335e+04, -2.29181616e+04, -2.26691897e+04, -2.24202178e+04,\n",
              "        -2.21712459e+04, -2.19222741e+04, -2.16733022e+04, -2.14243303e+04,\n",
              "        -2.11753584e+04, -2.09263865e+04, -2.06774147e+04, -2.04284428e+04,\n",
              "        -2.01794709e+04, -1.99304990e+04, -1.96815272e+04, -1.94325553e+04,\n",
              "        -1.91835834e+04, -1.89346115e+04, -1.86856396e+04, -1.84366678e+04,\n",
              "        -1.81876959e+04, -1.79387240e+04, -1.76897521e+04, -1.74407802e+04,\n",
              "        -1.71918084e+04, -1.69428365e+04, -1.66938646e+04, -1.64448927e+04,\n",
              "        -1.61959209e+04, -1.59469490e+04, -1.56979771e+04, -1.54490052e+04,\n",
              "        -1.52000333e+04, -1.49510615e+04, -1.47020896e+04, -1.44531177e+04,\n",
              "        -1.42041458e+04, -1.39551739e+04, -1.37062021e+04, -1.34572302e+04,\n",
              "        -1.32082583e+04, -1.29592864e+04, -1.27103146e+04, -1.24613427e+04,\n",
              "        -1.22123708e+04, -1.19633989e+04, -1.17144270e+04, -1.14654552e+04,\n",
              "        -1.12164833e+04, -1.09675114e+04, -1.07185395e+04, -1.04695676e+04,\n",
              "        -1.02205958e+04, -9.97162389e+03, -9.72265201e+03, -9.47368013e+03,\n",
              "        -9.22470826e+03, -8.97573638e+03, -8.72676450e+03, -8.47779262e+03,\n",
              "        -8.22882074e+03, -7.97984886e+03, -7.73087698e+03, -7.48190511e+03,\n",
              "        -7.23293323e+03, -6.98396135e+03, -6.73498947e+03, -6.48601759e+03,\n",
              "        -6.23704571e+03, -5.98807383e+03, -5.73910196e+03, -5.49013008e+03,\n",
              "        -5.24115820e+03, -4.99218632e+03, -4.74321444e+03, -4.49424256e+03,\n",
              "        -4.24527068e+03, -3.99629881e+03, -3.74732693e+03, -3.49835505e+03,\n",
              "        -3.24938317e+03, -3.00041129e+03, -2.75143941e+03, -2.50246754e+03,\n",
              "        -2.25349566e+03, -2.00452378e+03, -1.75555190e+03, -1.50658002e+03,\n",
              "        -1.25760814e+03, -1.00863626e+03, -7.59664386e+02, -5.10692507e+02,\n",
              "        -2.61720629e+02, -1.27487502e+01,  2.36223128e+02,  4.85195007e+02,\n",
              "         7.34166885e+02,  9.83138764e+02,  1.23211064e+03,  1.48108252e+03,\n",
              "         1.73005440e+03,  1.97902628e+03,  2.22799816e+03,  2.47697003e+03,\n",
              "         2.72594191e+03,  2.97491379e+03,  3.22388567e+03,  3.47285755e+03,\n",
              "         3.72182943e+03,  3.97080131e+03,  4.21977318e+03,  4.46874506e+03,\n",
              "         4.71771694e+03,  4.96668882e+03,  5.21566070e+03,  5.46463258e+03,\n",
              "         5.71360446e+03,  5.96257633e+03,  6.21154821e+03,  6.46052009e+03,\n",
              "         6.70949197e+03,  6.95846385e+03,  7.20743573e+03,  7.45640761e+03,\n",
              "         7.70537948e+03,  7.95435136e+03,  8.20332324e+03,  8.45229512e+03,\n",
              "         8.70126700e+03,  8.95023888e+03,  9.19921075e+03,  9.44818263e+03,\n",
              "         9.69715451e+03,  9.94612639e+03,  1.01950983e+04,  1.04440701e+04,\n",
              "         1.06930420e+04,  1.09420139e+04,  1.11909858e+04,  1.14399577e+04,\n",
              "         1.16889295e+04,  1.19379014e+04,  1.21868733e+04,  1.24358452e+04,\n",
              "         1.26848171e+04,  1.29337889e+04,  1.31827608e+04,  1.34317327e+04,\n",
              "         1.36807046e+04,  1.39296764e+04,  1.41786483e+04,  1.44276202e+04,\n",
              "         1.46765921e+04,  1.49255640e+04,  1.51745358e+04,  1.54235077e+04,\n",
              "         1.56724796e+04,  1.59214515e+04,  1.61704234e+04,  1.64193952e+04,\n",
              "         1.66683671e+04]),\n",
              " <BarContainer object of 200 artists>)"
            ]
          },
          "metadata": {},
          "execution_count": 6
        },
        {
          "output_type": "display_data",
          "data": {
            "text/plain": [
              "<Figure size 640x480 with 1 Axes>"
            ],
            "image/png": "[encoded data removed]"
          },
          "metadata": {}
        }
      ]
    },
    {
      "cell_type": "code",
      "source": [
        "plt.plot(G)"
      ],
      "metadata": {
        "colab": {
          "base_uri": "https://localhost:8080/",
          "height": 448
        },
        "id": "mX8Um4r1PExd",
        "outputId": "a4c89a09-1c05-4b1a-99e8-923598df783c"
      },
      "execution_count": null,
      "outputs": [
        {
          "output_type": "execute_result",
          "data": {
            "text/plain": [
              "[<matplotlib.lines.Line2D at 0x796f0320e710>]"
            ]
          },
          "metadata": {},
          "execution_count": 7
        },
        {
          "output_type": "display_data",
          "data": {
            "text/plain": [
              "<Figure size 640x480 with 1 Axes>"
            ],
            "image/png": "[encoded data removed]"
          },
          "metadata": {}
        }
      ]
    },
    {
      "cell_type": "code",
      "source": [
        "def cdf(muestra):\n",
        "   n = len(muestra)\n",
        "   x = np.sort(muestra)\n",
        "   y = np.arange(0,n)/n\n",
        "   return x,y"
      ],
      "metadata": {
        "id": "lYONdWDUPH2g"
      },
      "execution_count": null,
      "outputs": []
    },
    {
      "cell_type": "code",
      "source": [
        "x,y = cdf(G)"
      ],
      "metadata": {
        "id": "4Cw9faBiPLGB"
      },
      "execution_count": null,
      "outputs": []
    },
    {
      "cell_type": "code",
      "source": [
        "plt.step(x,y)\n",
        "plt.axhline(0.5, color=\"red\")\n",
        "plt.axvline(np.mean(G),color = \"green\")"
      ],
      "metadata": {
        "colab": {
          "base_uri": "https://localhost:8080/",
          "height": 448
        },
        "id": "ic18fZu3PNY5",
        "outputId": "01fc1e72-59f9-4d1f-c586-c8ee2404fcf5"
      },
      "execution_count": null,
      "outputs": [
        {
          "output_type": "execute_result",
          "data": {
            "text/plain": [
              "<matplotlib.lines.Line2D at 0x796edf138bb0>"
            ]
          },
          "metadata": {},
          "execution_count": 10
        },
        {
          "output_type": "display_data",
          "data": {
            "text/plain": [
              "<Figure size 640x480 with 1 Axes>"
            ],
            "image/png": "[encoded data removed]"
          },
          "metadata": {}
        }
      ]
    }
  ]
}