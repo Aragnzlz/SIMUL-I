{
  "nbformat": 4,
  "nbformat_minor": 0,
  "metadata": {
    "colab": {
      "provenance": [],
      "authorship_tag": "ABX9TyO2cZ2gvH++56mok9Nd6D+F",
      "include_colab_link": true
    },
    "kernelspec": {
      "name": "python3",
      "display_name": "Python 3"
    },
    "language_info": {
      "name": "python"
    }
  },
  "cells": [
    {
      "cell_type": "markdown",
      "metadata": {
        "id": "view-in-github",
        "colab_type": "text"
      },
      "source": [
        "<a href=\"https://colab.research.google.com/github/Aragnzlz/SIMULACION-I/blob/main/EXP.ipynb\" target=\"_parent\"><img src=\"https://colab.research.google.com/assets/colab-badge.svg\" alt=\"Open In Colab\"/></a>"
      ]
    },
    {
      "cell_type": "markdown",
      "source": [
        "Incluimos la libreria"
      ],
      "metadata": {
        "id": "T406BJFUAlik"
      }
    },
    {
      "cell_type": "code",
      "execution_count": 1,
      "metadata": {
        "id": "WgnAIi_Q_281"
      },
      "outputs": [],
      "source": [
        "import random as rnd\n",
        "import numpy as np #Esta libreria incluye algunas funciones matematicas. No necesitamos math\n",
        "import matplotlib.pyplot as plt"
      ]
    },
    {
      "cell_type": "markdown",
      "source": [],
      "metadata": {
        "id": "4Tc40-h5AlGs"
      }
    },
    {
      "cell_type": "code",
      "source": [
        "def expo(lam,n):\n",
        "  L = -1/lam\n",
        "  Lista = []\n",
        "  for i in range(n):\n",
        "    #Generamos una uniforme\n",
        "    u = rnd.random() #Genera números aleatorios entre 0 y 1\n",
        "    x = L* np.log(u)\n",
        "    Lista.append(x)#Agregamos los elementos a una lista\n",
        "  return Lista"
      ],
      "metadata": {
        "id": "xwUEdVmCAu5d"
      },
      "execution_count": 45,
      "outputs": []
    },
    {
      "cell_type": "code",
      "source": [
        "expo(2,10)"
      ],
      "metadata": {
        "colab": {
          "base_uri": "https://localhost:8080/"
        },
        "id": "3jLF6S49FW9y",
        "outputId": "f9512b78-11a9-4e58-d826-4a11c5a79d54"
      },
      "execution_count": 46,
      "outputs": [
        {
          "output_type": "execute_result",
          "data": {
            "text/plain": [
              "[0.14483106020056313,\n",
              " 0.3750120394365133,\n",
              " 0.3134179274921664,\n",
              " 0.12324650335899714,\n",
              " 0.10696160727381929,\n",
              " 0.11856613345348997,\n",
              " 0.19461082218208703,\n",
              " 0.09166085244048176,\n",
              " 0.2876997949657663,\n",
              " 0.5325647635197307]"
            ]
          },
          "metadata": {},
          "execution_count": 46
        }
      ]
    },
    {
      "cell_type": "code",
      "source": [
        "G = expo(0.5,10000000)"
      ],
      "metadata": {
        "id": "IM86V1bWHFed"
      },
      "execution_count": 63,
      "outputs": []
    },
    {
      "cell_type": "code",
      "source": [
        "mu = np.mean(G)\n",
        "print(mu)\n",
        "sigma = np.var(G)\n",
        "print(sigma)"
      ],
      "metadata": {
        "colab": {
          "base_uri": "https://localhost:8080/"
        },
        "id": "vtywYe7BHeSm",
        "outputId": "bb39c6c0-e16a-4605-f176-06cb33d56803"
      },
      "execution_count": 64,
      "outputs": [
        {
          "output_type": "stream",
          "name": "stdout",
          "text": [
            "2.0008879119863576\n",
            "4.004370925465723\n"
          ]
        }
      ]
    },
    {
      "cell_type": "code",
      "source": [
        "plt.hist(G,bins = 200, color = \"lightblue\")"
      ],
      "metadata": {
        "colab": {
          "base_uri": "https://localhost:8080/",
          "height": 1000
        },
        "id": "P0z73yByIJ5M",
        "outputId": "14e76595-ceac-48c9-ff1e-ad196d5ef752"
      },
      "execution_count": 66,
      "outputs": [
        {
          "output_type": "execute_result",
          "data": {
            "text/plain": [
              "(array([1.141117e+06, 1.011097e+06, 8.952560e+05, 7.928630e+05,\n",
              "        7.012600e+05, 6.214110e+05, 5.516100e+05, 4.883560e+05,\n",
              "        4.339720e+05, 3.840830e+05, 3.398010e+05, 3.013400e+05,\n",
              "        2.664010e+05, 2.364460e+05, 2.093130e+05, 1.855620e+05,\n",
              "        1.646620e+05, 1.453080e+05, 1.290020e+05, 1.143620e+05,\n",
              "        1.009640e+05, 8.981000e+04, 7.926600e+04, 7.086100e+04,\n",
              "        6.220600e+04, 5.498900e+04, 4.891700e+04, 4.316800e+04,\n",
              "        3.857000e+04, 3.373900e+04, 3.007800e+04, 2.667500e+04,\n",
              "        2.374600e+04, 2.097500e+04, 1.872300e+04, 1.642100e+04,\n",
              "        1.455100e+04, 1.301200e+04, 1.144500e+04, 1.007300e+04,\n",
              "        8.831000e+03, 7.894000e+03, 7.102000e+03, 6.214000e+03,\n",
              "        5.509000e+03, 4.705000e+03, 4.285000e+03, 3.804000e+03,\n",
              "        3.410000e+03, 3.102000e+03, 2.690000e+03, 2.397000e+03,\n",
              "        2.132000e+03, 1.861000e+03, 1.628000e+03, 1.505000e+03,\n",
              "        1.307000e+03, 1.200000e+03, 1.027000e+03, 9.150000e+02,\n",
              "        8.310000e+02, 7.390000e+02, 6.300000e+02, 5.200000e+02,\n",
              "        4.790000e+02, 4.520000e+02, 3.860000e+02, 3.460000e+02,\n",
              "        3.040000e+02, 2.720000e+02, 2.180000e+02, 2.230000e+02,\n",
              "        2.020000e+02, 1.810000e+02, 1.480000e+02, 1.400000e+02,\n",
              "        1.170000e+02, 9.700000e+01, 8.700000e+01, 8.700000e+01,\n",
              "        7.500000e+01, 6.600000e+01, 4.600000e+01, 4.300000e+01,\n",
              "        4.500000e+01, 5.400000e+01, 4.000000e+01, 2.500000e+01,\n",
              "        2.800000e+01, 1.900000e+01, 1.800000e+01, 1.700000e+01,\n",
              "        1.700000e+01, 1.500000e+01, 7.000000e+00, 1.000000e+01,\n",
              "        1.000000e+01, 7.000000e+00, 1.700000e+01, 4.000000e+00,\n",
              "        4.000000e+00, 8.000000e+00, 5.000000e+00, 3.000000e+00,\n",
              "        4.000000e+00, 2.000000e+00, 2.000000e+00, 0.000000e+00,\n",
              "        0.000000e+00, 3.000000e+00, 0.000000e+00, 0.000000e+00,\n",
              "        2.000000e+00, 1.000000e+00, 0.000000e+00, 2.000000e+00,\n",
              "        1.000000e+00, 2.000000e+00, 1.000000e+00, 1.000000e+00,\n",
              "        2.000000e+00, 1.000000e+00, 1.000000e+00, 1.000000e+00,\n",
              "        0.000000e+00, 0.000000e+00, 1.000000e+00, 0.000000e+00,\n",
              "        0.000000e+00, 0.000000e+00, 0.000000e+00, 0.000000e+00,\n",
              "        0.000000e+00, 0.000000e+00, 0.000000e+00, 0.000000e+00,\n",
              "        0.000000e+00, 0.000000e+00, 0.000000e+00, 0.000000e+00,\n",
              "        0.000000e+00, 1.000000e+00, 0.000000e+00, 0.000000e+00,\n",
              "        0.000000e+00, 0.000000e+00, 0.000000e+00, 0.000000e+00,\n",
              "        0.000000e+00, 0.000000e+00, 0.000000e+00, 0.000000e+00,\n",
              "        0.000000e+00, 0.000000e+00, 0.000000e+00, 0.000000e+00,\n",
              "        0.000000e+00, 0.000000e+00, 0.000000e+00, 0.000000e+00,\n",
              "        0.000000e+00, 0.000000e+00, 0.000000e+00, 0.000000e+00,\n",
              "        0.000000e+00, 0.000000e+00, 0.000000e+00, 0.000000e+00,\n",
              "        0.000000e+00, 0.000000e+00, 0.000000e+00, 0.000000e+00,\n",
              "        0.000000e+00, 0.000000e+00, 0.000000e+00, 0.000000e+00,\n",
              "        0.000000e+00, 0.000000e+00, 0.000000e+00, 0.000000e+00,\n",
              "        0.000000e+00, 0.000000e+00, 0.000000e+00, 0.000000e+00,\n",
              "        0.000000e+00, 0.000000e+00, 0.000000e+00, 0.000000e+00,\n",
              "        0.000000e+00, 0.000000e+00, 0.000000e+00, 0.000000e+00,\n",
              "        0.000000e+00, 0.000000e+00, 0.000000e+00, 0.000000e+00,\n",
              "        0.000000e+00, 0.000000e+00, 0.000000e+00, 1.000000e+00]),\n",
              " array([1.18589490e-07, 2.42321177e-01, 4.84642236e-01, 7.26963294e-01,\n",
              "        9.69284353e-01, 1.21160541e+00, 1.45392647e+00, 1.69624753e+00,\n",
              "        1.93856859e+00, 2.18088965e+00, 2.42321070e+00, 2.66553176e+00,\n",
              "        2.90785282e+00, 3.15017388e+00, 3.39249494e+00, 3.63481600e+00,\n",
              "        3.87713705e+00, 4.11945811e+00, 4.36177917e+00, 4.60410023e+00,\n",
              "        4.84642129e+00, 5.08874235e+00, 5.33106341e+00, 5.57338446e+00,\n",
              "        5.81570552e+00, 6.05802658e+00, 6.30034764e+00, 6.54266870e+00,\n",
              "        6.78498976e+00, 7.02731082e+00, 7.26963187e+00, 7.51195293e+00,\n",
              "        7.75427399e+00, 7.99659505e+00, 8.23891611e+00, 8.48123717e+00,\n",
              "        8.72355823e+00, 8.96587928e+00, 9.20820034e+00, 9.45052140e+00,\n",
              "        9.69284246e+00, 9.93516352e+00, 1.01774846e+01, 1.04198056e+01,\n",
              "        1.06621267e+01, 1.09044478e+01, 1.11467688e+01, 1.13890899e+01,\n",
              "        1.16314109e+01, 1.18737320e+01, 1.21160530e+01, 1.23583741e+01,\n",
              "        1.26006952e+01, 1.28430162e+01, 1.30853373e+01, 1.33276583e+01,\n",
              "        1.35699794e+01, 1.38123005e+01, 1.40546215e+01, 1.42969426e+01,\n",
              "        1.45392636e+01, 1.47815847e+01, 1.50239057e+01, 1.52662268e+01,\n",
              "        1.55085479e+01, 1.57508689e+01, 1.59931900e+01, 1.62355110e+01,\n",
              "        1.64778321e+01, 1.67201532e+01, 1.69624742e+01, 1.72047953e+01,\n",
              "        1.74471163e+01, 1.76894374e+01, 1.79317584e+01, 1.81740795e+01,\n",
              "        1.84164006e+01, 1.86587216e+01, 1.89010427e+01, 1.91433637e+01,\n",
              "        1.93856848e+01, 1.96280059e+01, 1.98703269e+01, 2.01126480e+01,\n",
              "        2.03549690e+01, 2.05972901e+01, 2.08396112e+01, 2.10819322e+01,\n",
              "        2.13242533e+01, 2.15665743e+01, 2.18088954e+01, 2.20512164e+01,\n",
              "        2.22935375e+01, 2.25358586e+01, 2.27781796e+01, 2.30205007e+01,\n",
              "        2.32628217e+01, 2.35051428e+01, 2.37474639e+01, 2.39897849e+01,\n",
              "        2.42321060e+01, 2.44744270e+01, 2.47167481e+01, 2.49590691e+01,\n",
              "        2.52013902e+01, 2.54437113e+01, 2.56860323e+01, 2.59283534e+01,\n",
              "        2.61706744e+01, 2.64129955e+01, 2.66553166e+01, 2.68976376e+01,\n",
              "        2.71399587e+01, 2.73822797e+01, 2.76246008e+01, 2.78669218e+01,\n",
              "        2.81092429e+01, 2.83515640e+01, 2.85938850e+01, 2.88362061e+01,\n",
              "        2.90785271e+01, 2.93208482e+01, 2.95631693e+01, 2.98054903e+01,\n",
              "        3.00478114e+01, 3.02901324e+01, 3.05324535e+01, 3.07747746e+01,\n",
              "        3.10170956e+01, 3.12594167e+01, 3.15017377e+01, 3.17440588e+01,\n",
              "        3.19863798e+01, 3.22287009e+01, 3.24710220e+01, 3.27133430e+01,\n",
              "        3.29556641e+01, 3.31979851e+01, 3.34403062e+01, 3.36826273e+01,\n",
              "        3.39249483e+01, 3.41672694e+01, 3.44095904e+01, 3.46519115e+01,\n",
              "        3.48942325e+01, 3.51365536e+01, 3.53788747e+01, 3.56211957e+01,\n",
              "        3.58635168e+01, 3.61058378e+01, 3.63481589e+01, 3.65904800e+01,\n",
              "        3.68328010e+01, 3.70751221e+01, 3.73174431e+01, 3.75597642e+01,\n",
              "        3.78020852e+01, 3.80444063e+01, 3.82867274e+01, 3.85290484e+01,\n",
              "        3.87713695e+01, 3.90136905e+01, 3.92560116e+01, 3.94983327e+01,\n",
              "        3.97406537e+01, 3.99829748e+01, 4.02252958e+01, 4.04676169e+01,\n",
              "        4.07099380e+01, 4.09522590e+01, 4.11945801e+01, 4.14369011e+01,\n",
              "        4.16792222e+01, 4.19215432e+01, 4.21638643e+01, 4.24061854e+01,\n",
              "        4.26485064e+01, 4.28908275e+01, 4.31331485e+01, 4.33754696e+01,\n",
              "        4.36177907e+01, 4.38601117e+01, 4.41024328e+01, 4.43447538e+01,\n",
              "        4.45870749e+01, 4.48293959e+01, 4.50717170e+01, 4.53140381e+01,\n",
              "        4.55563591e+01, 4.57986802e+01, 4.60410012e+01, 4.62833223e+01,\n",
              "        4.65256434e+01, 4.67679644e+01, 4.70102855e+01, 4.72526065e+01,\n",
              "        4.74949276e+01, 4.77372486e+01, 4.79795697e+01, 4.82218908e+01,\n",
              "        4.84642118e+01]),\n",
              " <BarContainer object of 200 artists>)"
            ]
          },
          "metadata": {},
          "execution_count": 66
        },
        {
          "output_type": "display_data",
          "data": {
            "text/plain": [
              "<Figure size 640x480 with 1 Axes>"
            ],
            "image/png": "[encoded data removed]"
          },
          "metadata": {}
        }
      ]
    }
  ]
}