{
  "nbformat": 4,
  "nbformat_minor": 0,
  "metadata": {
    "colab": {
      "provenance": [],
      "authorship_tag": "ABX9TyP8Ebam+n3JCkah4ZXqvDvu",
      "include_colab_link": true
    },
    "kernelspec": {
      "name": "python3",
      "display_name": "Python 3"
    },
    "language_info": {
      "name": "python"
    }
  },
  "cells": [
    {
      "cell_type": "markdown",
      "metadata": {
        "id": "view-in-github",
        "colab_type": "text"
      },
      "source": [
        "<a href=\"https://colab.research.google.com/github/Aragnzlz/SIMULACION-I/blob/main/APPROX_PI.ipynb\" target=\"_parent\"><img src=\"https://colab.research.google.com/assets/colab-badge.svg\" alt=\"Open In Colab\"/></a>"
      ]
    },
    {
      "cell_type": "markdown",
      "source": [
        "Una de las mejores maneras de estimar pi es generando un circulo y calcular la probabilidad de que un dardo caiga dentro de este.\n",
        "\n",
        "Si lo vemos de manera probabilistica nos damos cuenta que cada que un dardo este dentro del circulo se puede considerar como un éxito, por lo que podemos definir a nuestra variable de la siguiente manera:\n",
        "$$\n",
        "x_i =\n",
        "\\begin{cases}\n",
        "1 & \\text{si el dardo cae dentro circulo} \\\\\n",
        "0 & \\text{si cae fuera}\n",
        "\\end{cases}\n",
        "$$\n",
        "Consideremos a\n",
        "$$\n",
        "\\hat{\\pi} = \\frac{4x}{N}\n",
        "$$\n",
        "Donde x representa el número de veces que un punto simulado cayo dentro del cuarto de circulo y N el número de veces que se realizó el experimento.\n",
        "\n",
        "La cual podriamos decir que sigue una distribución binomial.\n",
        "\n",
        "Ahora bien, para aproximar más el valor estimado a su valor real es necesario aumentar el número de veces que se realiza el experimento, por ejemplo, si queremos que el estimador difiera en una cantidad menor que 0.1, con una seguridad del 95% podemos expresar esto de la siguiente manera:\n",
        "$$\n",
        "P(|\\hat{pi}-\\pi| \\leq 0.1 ) = 0.95\n",
        "$$\n",
        "La cual se puede reescribir como\n",
        "$$\n",
        "P(\\pi - 0.1 \\leq \\frac{\\hat{\\pi}}{n} \\leq \\pi + 0.1) = 0.95\n",
        "$$\n",
        "\n",
        "Como mencionamos anteriormente, $\\pi$ puede ser estumado utilizando la relacion $\\frac{4x}{n}$  por lo tanto:\n",
        "\n",
        "$$\n",
        "P(\\frac{\\pi - 0.1}{4} \\leq \\hat{\\pi} \\leq \\frac{\\pi + 0.1}{4}) = 0.95\n",
        "$$\n",
        "Y puesto que x es una variable alaeatoria que sigue una distribución binomial,especialemente de Bernoulli, cuyos valor esperado y varianza esta dado por :  \n",
        "\n",
        "$$\n",
        "E[x_i] = 1*p+0*p = p \\\\\n",
        "V[x_i] = E[x_i^2] - (E[x_i])^2 = (1^2*p + 0^2*p)-p^2 = p-p^2 = p(1-p)\n",
        "$$\n",
        "\n",
        "El teorema del límite central también se puede usar para aproximar probabilidades de algunas\n",
        "variables aleatorias discretas cuando las probabilidades exactas sean difíciles de calcular. Un\n",
        "ejemplo útil comprende la distribución binomial para valores grandes del número de intentos n.\n",
        "Suponga que Z tiene una distribución binomial con n intentos y probabilidad de éxito p. La podemos denotar de la siguiente manera:\n",
        "$$\n",
        "Z = \\frac{x_1 + ...+ x_N}{N}\n",
        "$$\n",
        "La cual se puede identificar como la fraccion de exitos\n",
        "\n",
        "Dado lo anterior el valor esperado y varianza de la fracción de exitos ese puede obtener como sigue\n",
        "\n",
        "*   $ E[z] = \\frac{1}{N}(E[x_1]+...+E[x_N]) = \\frac{np}{} = p = \\frac{\\pi}{4} $\n",
        "*   $ V[z] = \\frac{1}{N^2} (V[x_1]+...+V[x_2]) = \\frac{1}{N^2}(N p(1-p)) = \\frac{p(1-p)}{N} = \\frac{(\\pi/4)(1-\\pi/4)}{n}$\n",
        "Es obvio que cuando n es grande, tanto la distribución binomial como la fracción de éxitos x/n, pueden ser reemplazadas por una distribución normal. Por consiguiente el número de experimentos necesarios a realizar se puede encontrar resolviendo la siguiente ecuación\n",
        "\n",
        "Ahora, estandaricemos la variable\n",
        "$$\n",
        "Z = \\frac{\\hat{\\pi}-E[\\hat{\\pi}]}{V[\\hat{\\pi}]} =\n",
        "\\frac{\\frac{\\pi + 0.1}{4} - \\frac{\\pi}{4}}{\\sqrt{\\frac{\\pi}{4}(1-\\pi/4)}}\\sqrt{n}\n",
        "$$\n",
        "Despejando el valor de n se obtiene:\n",
        "$$\n",
        "n = \\frac{4\\pi(1-\\pi/4)Z_{0.25}}{(0.1)^2}\n",
        "$$\n",
        "De la tabla de la ditribución normal, $Z_{0.25} = 1.96$, por lo que n resulta ser de 1036.\n",
        "De esta manera, para que el valor estimado de $\\pi$ difiera con su valor real una cantidad menor que 0.1 es necesario simular 1036 veces el experimento.\n",
        "\n",
        "Otra manera de resolver este caso es aplicando la desgualdad de Chevishev\n",
        "$$\n",
        "P(|Z_n - E[z_n]| \\geq \\epsilon) \\leq \\frac{V[Z_n]}{\\epsilon^2} = \\frac{16p(1-p)}{N\\epsilon^2}\n",
        "$$\n",
        "Si sustiuimos los valores anteriores, pero buscamos que la probabilida de error sea de 0,01 obtendremos que $\\textbf{N = 26000}$\n",
        "Utilizaremos este ultimo para nuestra simulación."
      ],
      "metadata": {
        "id": "NHtImkQ35kf4"
      }
    },
    {
      "cell_type": "code",
      "source": [
        "#Importamos todas las librerias a utilizar\n",
        "import numpy as np\n",
        "import random as rnd\n",
        "import matplotlib.pyplot as plt\n",
        "from scipy.stats import norm\n",
        "import math"
      ],
      "metadata": {
        "id": "n3NLDNDeMGwB"
      },
      "execution_count": 75,
      "outputs": []
    },
    {
      "cell_type": "code",
      "source": [
        "def muestra(): #Devuelve el numero de exitos\n",
        "  exitos = 0\n",
        "  u_1 = rnd.random() #Genera números aleatorios entre 0 y 1\n",
        "  u_2 = rnd.random()\n",
        "  if u_2 <= math.sqrt(1-u_1**2): #Comprueba si el dardo esta dentro del circulo\n",
        "    exitos += 1\n",
        "  return exitos"
      ],
      "metadata": {
        "id": "feo3k5sVLQd-"
      },
      "execution_count": 76,
      "outputs": []
    },
    {
      "cell_type": "code",
      "source": [
        "def prob_exito(n):\n",
        "    prob = []                       # Esta funcion devuelve esta lista \"prob\", con los valores de la probabilidad\n",
        "    e = 0                       # estimada al contar las veces que un dardo esta dentro del circulo y dividir entre las veces que\n",
        "    for i in range(n):              # se ha reptido la observacion mientras aumenta el numero de iteraciones.\n",
        "        e += muestra()\n",
        "        prob.append(e/(i+1))\n",
        "    return prob, e"
      ],
      "metadata": {
        "id": "mEE5-opJL4Yu"
      },
      "execution_count": 77,
      "outputs": []
    },
    {
      "cell_type": "code",
      "source": [
        "N = 26000 #Repetimos el experimento con el N calculado anteriormente\n",
        "[X,e] = prob_exito(N)"
      ],
      "metadata": {
        "id": "wMX8zFR1MEAd"
      },
      "execution_count": 79,
      "outputs": []
    },
    {
      "cell_type": "code",
      "source": [
        "plt.plot(X)"
      ],
      "metadata": {
        "colab": {
          "base_uri": "https://localhost:8080/",
          "height": 447
        },
        "id": "qGuII1ysMFfp",
        "outputId": "dde2f4ee-f6a2-4a13-a085-5f1916babf92"
      },
      "execution_count": 80,
      "outputs": [
        {
          "output_type": "execute_result",
          "data": {
            "text/plain": [
              "[<matplotlib.lines.Line2D at 0x78a06be7aef0>]"
            ]
          },
          "metadata": {},
          "execution_count": 80
        },
        {
          "output_type": "display_data",
          "data": {
            "text/plain": [
              "<Figure size 640x480 with 1 Axes>"
            ],
            "image/png": "[encoded data removed]"
          },
          "metadata": {}
        }
      ]
    },
    {
      "cell_type": "code",
      "source": [
        "# La aproximación se calcula con el numero de exitos, es decir, el número de veces que un dardo esta dentro del cuarto de circulo.\n",
        "app = 4*(e/N)\n",
        "app"
      ],
      "metadata": {
        "colab": {
          "base_uri": "https://localhost:8080/"
        },
        "id": "6FjaFckxOt2o",
        "outputId": "c3017eb8-188e-47f1-adf1-a8f19a500cd5"
      },
      "execution_count": 81,
      "outputs": [
        {
          "output_type": "execute_result",
          "data": {
            "text/plain": [
              "3.135692307692308"
            ]
          },
          "metadata": {},
          "execution_count": 81
        }
      ]
    },
    {
      "cell_type": "code",
      "source": [
        "def modelo(n):\n",
        "    lista=[]\n",
        "    for i in range(n):\n",
        "        [s,e] = prob_exito(500)\n",
        "        lista.append(np.mean(s))\n",
        "    return lista"
      ],
      "metadata": {
        "id": "mzjLIsRsNNq7"
      },
      "execution_count": 82,
      "outputs": []
    },
    {
      "cell_type": "markdown",
      "source": [
        "Esta grafica nos representa como cuando el n es lo suficientemente grande nuestra muestra se aproxima a una normal."
      ],
      "metadata": {
        "id": "OunbQcLaXyvw"
      }
    },
    {
      "cell_type": "code",
      "source": [
        "Y = modelo(100000)"
      ],
      "metadata": {
        "id": "1SfDq_YqNSxb"
      },
      "execution_count": 83,
      "outputs": []
    },
    {
      "cell_type": "code",
      "source": [
        "plt.hist(Y,bins = 200, color = \"pink\")\n",
        "plt.show()"
      ],
      "metadata": {
        "colab": {
          "base_uri": "https://localhost:8080/",
          "height": 430
        },
        "id": "NrUdcTMGNVH2",
        "outputId": "4e2dcac9-101b-424a-f5f0-9af4b1041e69"
      },
      "execution_count": 84,
      "outputs": [
        {
          "output_type": "display_data",
          "data": {
            "text/plain": [
              "<Figure size 640x480 with 1 Axes>"
            ],
            "image/png": "[encoded data removed]"
          },
          "metadata": {}
        }
      ]
    }
  ]
}